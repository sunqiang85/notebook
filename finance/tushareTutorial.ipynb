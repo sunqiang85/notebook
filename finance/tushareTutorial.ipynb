{
 "cells": [
  {
   "cell_type": "markdown",
   "metadata": {},
   "source": [
    "# Tushare Tutorial\n",
    "## Tushare简介\n",
    ">   TuShare是一个免费、开源的python财经数据接口包。主要实现对股票等金融数据从数据采集、清洗加工 到 数据存储的过程，能够为金融分析人员提供快速、整洁、和多样的便于分析的数据，为他们在数据获取方面极大地减轻工作量，使他们更加专注于策略和模型的研究与实现上。考虑到Python pandas包在金融量化分析中体现出的优势，TuShare返回的绝大部分的数据格式都是pandas DataFrame类型，非常便于用pandas/NumPy/Matplotlib进行数据分析和可视化。当然，如果您习惯了用Excel或者关系型数据库做分析，您也可以通过TuShare的数据存储功能，将数据全部保存到本地后进行分析。应一些用户的请求，从0.2.5版本开始，TuShare同时兼容Python 2.x和Python 3.x，对部分代码进行了重构，并优化了一些算法，确保数据获取的高效和稳定。\n"
   ]
  },
  {
   "cell_type": "markdown",
   "metadata": {},
   "source": [
    "查看版本"
   ]
  },
  {
   "cell_type": "code",
   "execution_count": 2,
   "metadata": {
    "collapsed": false
   },
   "outputs": [
    {
     "name": "stdout",
     "output_type": "stream",
     "text": [
      "0.5.0\n"
     ]
    }
   ],
   "source": [
    "import tushare as ts\n",
    "print ts.__version__"
   ]
  },
  {
   "cell_type": "markdown",
   "metadata": {},
   "source": [
    "## 获取历史数据"
   ]
  },
  {
   "cell_type": "code",
   "execution_count": 3,
   "metadata": {
    "collapsed": true
   },
   "outputs": [],
   "source": [
    "data=ts.get_hist_data('600299',start='2016-06-01',end='2016-06-10')"
   ]
  },
  {
   "cell_type": "code",
   "execution_count": 4,
   "metadata": {
    "collapsed": false
   },
   "outputs": [
    {
     "data": {
      "text/plain": [
       "pandas.core.frame.DataFrame"
      ]
     },
     "execution_count": 4,
     "metadata": {},
     "output_type": "execute_result"
    }
   ],
   "source": [
    "type(data)"
   ]
  },
  {
   "cell_type": "code",
   "execution_count": 5,
   "metadata": {
    "collapsed": false
   },
   "outputs": [
    {
     "name": "stdout",
     "output_type": "stream",
     "text": [
      "             open   high  close    low    volume  price_change  p_change  \\\n",
      "date                                                                       \n",
      "2016-06-08  13.30  13.36  13.25  13.11  27357.47          0.04      0.30   \n",
      "2016-06-07  13.45  13.53  13.37  13.27  30523.44         -0.10     -0.74   \n",
      "2016-06-06  13.61  13.65  13.47  13.42  29164.29         -0.08     -0.59   \n",
      "2016-06-03  13.33  13.56  13.55  13.22  49586.62          0.26      1.96   \n",
      "2016-06-02  13.25  13.41  13.29  13.10  36020.29          0.09      0.68   \n",
      "2016-06-01  13.20  13.46  13.20  13.15  47789.89          0.05      0.38   \n",
      "\n",
      "               ma5    ma10    ma20     v_ma5    v_ma10    v_ma20  turnover  \n",
      "date                                                                        \n",
      "2016-06-08  13.386  13.161  13.141  34530.42  34109.87  34524.14      0.52  \n",
      "2016-06-07  13.376  13.134  13.122  38616.91  33660.77  34643.12      0.58  \n",
      "2016-06-06  13.332  13.105  13.097  41218.94  33022.96  34644.02      0.56  \n",
      "2016-06-03  13.170  13.089  13.062  39284.94  33164.21  35324.08      0.95  \n",
      "2016-06-02  13.018  13.031  13.059  34189.75  32300.38  35458.74      0.69  \n",
      "2016-06-01  12.936  13.012  13.096  33689.32  32828.04  35107.35      0.91  \n"
     ]
    }
   ],
   "source": [
    "print data"
   ]
  },
  {
   "cell_type": "code",
   "execution_count": 8,
   "metadata": {
    "collapsed": false
   },
   "outputs": [
    {
     "name": "stdout",
     "output_type": "stream",
     "text": [
      "Index([u'2016-06-08', u'2016-06-07', u'2016-06-06', u'2016-06-03',\n",
      "       u'2016-06-02', u'2016-06-01'],\n",
      "      dtype='object', name=u'date')\n"
     ]
    }
   ],
   "source": [
    "print data.index"
   ]
  },
  {
   "cell_type": "code",
   "execution_count": 11,
   "metadata": {
    "collapsed": false
   },
   "outputs": [
    {
     "name": "stdout",
     "output_type": "stream",
     "text": [
      "2016-06-06\n"
     ]
    }
   ],
   "source": [
    "date1=data.index[2]\n",
    "print date1"
   ]
  },
  {
   "cell_type": "code",
   "execution_count": 14,
   "metadata": {
    "collapsed": false
   },
   "outputs": [
    {
     "name": "stdout",
     "output_type": "stream",
     "text": [
      "<type 'unicode'>\n"
     ]
    }
   ],
   "source": [
    "print type(date1)"
   ]
  },
  {
   "cell_type": "code",
   "execution_count": 16,
   "metadata": {
    "collapsed": true
   },
   "outputs": [],
   "source": [
    "import pandas as pd"
   ]
  },
  {
   "cell_type": "code",
   "execution_count": 18,
   "metadata": {
    "collapsed": true
   },
   "outputs": [],
   "source": [
    "ts1=pd.to_datetime(data.index)"
   ]
  },
  {
   "cell_type": "code",
   "execution_count": 21,
   "metadata": {
    "collapsed": false
   },
   "outputs": [
    {
     "name": "stdout",
     "output_type": "stream",
     "text": [
      "DatetimeIndex(['2016-06-08', '2016-06-07', '2016-06-06', '2016-06-03',\n",
      "               '2016-06-02', '2016-06-01'],\n",
      "              dtype='datetime64[ns]', name=u'date', freq=None)\n"
     ]
    }
   ],
   "source": [
    "print ts1"
   ]
  },
  {
   "cell_type": "code",
   "execution_count": 23,
   "metadata": {
    "collapsed": false
   },
   "outputs": [
    {
     "name": "stdout",
     "output_type": "stream",
     "text": [
      "<class 'pandas.tseries.index.DatetimeIndex'>\n"
     ]
    }
   ],
   "source": [
    "print type(ts1)"
   ]
  },
  {
   "cell_type": "code",
   "execution_count": 25,
   "metadata": {
    "collapsed": false
   },
   "outputs": [
    {
     "name": "stdout",
     "output_type": "stream",
     "text": [
      "<class 'pandas.tslib.Timestamp'>\n"
     ]
    }
   ],
   "source": [
    "print type(ts1[0])"
   ]
  },
  {
   "cell_type": "code",
   "execution_count": 27,
   "metadata": {
    "collapsed": false
   },
   "outputs": [
    {
     "data": {
      "text/html": [
       "<div>\n",
       "<table border=\"1\" class=\"dataframe\">\n",
       "  <thead>\n",
       "    <tr style=\"text-align: right;\">\n",
       "      <th></th>\n",
       "      <th>open</th>\n",
       "      <th>high</th>\n",
       "      <th>close</th>\n",
       "      <th>low</th>\n",
       "      <th>volume</th>\n",
       "      <th>price_change</th>\n",
       "      <th>p_change</th>\n",
       "      <th>ma5</th>\n",
       "      <th>ma10</th>\n",
       "      <th>ma20</th>\n",
       "      <th>v_ma5</th>\n",
       "      <th>v_ma10</th>\n",
       "      <th>v_ma20</th>\n",
       "      <th>turnover</th>\n",
       "    </tr>\n",
       "    <tr>\n",
       "      <th>date</th>\n",
       "      <th></th>\n",
       "      <th></th>\n",
       "      <th></th>\n",
       "      <th></th>\n",
       "      <th></th>\n",
       "      <th></th>\n",
       "      <th></th>\n",
       "      <th></th>\n",
       "      <th></th>\n",
       "      <th></th>\n",
       "      <th></th>\n",
       "      <th></th>\n",
       "      <th></th>\n",
       "      <th></th>\n",
       "    </tr>\n",
       "  </thead>\n",
       "  <tbody>\n",
       "    <tr>\n",
       "      <th>2016-06-08</th>\n",
       "      <td>13.30</td>\n",
       "      <td>13.36</td>\n",
       "      <td>13.25</td>\n",
       "      <td>13.11</td>\n",
       "      <td>27357.47</td>\n",
       "      <td>0.04</td>\n",
       "      <td>0.30</td>\n",
       "      <td>13.386</td>\n",
       "      <td>13.161</td>\n",
       "      <td>13.141</td>\n",
       "      <td>34530.42</td>\n",
       "      <td>34109.87</td>\n",
       "      <td>34524.14</td>\n",
       "      <td>0.52</td>\n",
       "    </tr>\n",
       "    <tr>\n",
       "      <th>2016-06-07</th>\n",
       "      <td>13.45</td>\n",
       "      <td>13.53</td>\n",
       "      <td>13.37</td>\n",
       "      <td>13.27</td>\n",
       "      <td>30523.44</td>\n",
       "      <td>-0.10</td>\n",
       "      <td>-0.74</td>\n",
       "      <td>13.376</td>\n",
       "      <td>13.134</td>\n",
       "      <td>13.122</td>\n",
       "      <td>38616.91</td>\n",
       "      <td>33660.77</td>\n",
       "      <td>34643.12</td>\n",
       "      <td>0.58</td>\n",
       "    </tr>\n",
       "    <tr>\n",
       "      <th>2016-06-06</th>\n",
       "      <td>13.61</td>\n",
       "      <td>13.65</td>\n",
       "      <td>13.47</td>\n",
       "      <td>13.42</td>\n",
       "      <td>29164.29</td>\n",
       "      <td>-0.08</td>\n",
       "      <td>-0.59</td>\n",
       "      <td>13.332</td>\n",
       "      <td>13.105</td>\n",
       "      <td>13.097</td>\n",
       "      <td>41218.94</td>\n",
       "      <td>33022.96</td>\n",
       "      <td>34644.02</td>\n",
       "      <td>0.56</td>\n",
       "    </tr>\n",
       "    <tr>\n",
       "      <th>2016-06-03</th>\n",
       "      <td>13.33</td>\n",
       "      <td>13.56</td>\n",
       "      <td>13.55</td>\n",
       "      <td>13.22</td>\n",
       "      <td>49586.62</td>\n",
       "      <td>0.26</td>\n",
       "      <td>1.96</td>\n",
       "      <td>13.170</td>\n",
       "      <td>13.089</td>\n",
       "      <td>13.062</td>\n",
       "      <td>39284.94</td>\n",
       "      <td>33164.21</td>\n",
       "      <td>35324.08</td>\n",
       "      <td>0.95</td>\n",
       "    </tr>\n",
       "    <tr>\n",
       "      <th>2016-06-02</th>\n",
       "      <td>13.25</td>\n",
       "      <td>13.41</td>\n",
       "      <td>13.29</td>\n",
       "      <td>13.10</td>\n",
       "      <td>36020.29</td>\n",
       "      <td>0.09</td>\n",
       "      <td>0.68</td>\n",
       "      <td>13.018</td>\n",
       "      <td>13.031</td>\n",
       "      <td>13.059</td>\n",
       "      <td>34189.75</td>\n",
       "      <td>32300.38</td>\n",
       "      <td>35458.74</td>\n",
       "      <td>0.69</td>\n",
       "    </tr>\n",
       "    <tr>\n",
       "      <th>2016-06-01</th>\n",
       "      <td>13.20</td>\n",
       "      <td>13.46</td>\n",
       "      <td>13.20</td>\n",
       "      <td>13.15</td>\n",
       "      <td>47789.89</td>\n",
       "      <td>0.05</td>\n",
       "      <td>0.38</td>\n",
       "      <td>12.936</td>\n",
       "      <td>13.012</td>\n",
       "      <td>13.096</td>\n",
       "      <td>33689.32</td>\n",
       "      <td>32828.04</td>\n",
       "      <td>35107.35</td>\n",
       "      <td>0.91</td>\n",
       "    </tr>\n",
       "  </tbody>\n",
       "</table>\n",
       "</div>"
      ],
      "text/plain": [
       "             open   high  close    low    volume  price_change  p_change  \\\n",
       "date                                                                       \n",
       "2016-06-08  13.30  13.36  13.25  13.11  27357.47          0.04      0.30   \n",
       "2016-06-07  13.45  13.53  13.37  13.27  30523.44         -0.10     -0.74   \n",
       "2016-06-06  13.61  13.65  13.47  13.42  29164.29         -0.08     -0.59   \n",
       "2016-06-03  13.33  13.56  13.55  13.22  49586.62          0.26      1.96   \n",
       "2016-06-02  13.25  13.41  13.29  13.10  36020.29          0.09      0.68   \n",
       "2016-06-01  13.20  13.46  13.20  13.15  47789.89          0.05      0.38   \n",
       "\n",
       "               ma5    ma10    ma20     v_ma5    v_ma10    v_ma20  turnover  \n",
       "date                                                                        \n",
       "2016-06-08  13.386  13.161  13.141  34530.42  34109.87  34524.14      0.52  \n",
       "2016-06-07  13.376  13.134  13.122  38616.91  33660.77  34643.12      0.58  \n",
       "2016-06-06  13.332  13.105  13.097  41218.94  33022.96  34644.02      0.56  \n",
       "2016-06-03  13.170  13.089  13.062  39284.94  33164.21  35324.08      0.95  \n",
       "2016-06-02  13.018  13.031  13.059  34189.75  32300.38  35458.74      0.69  \n",
       "2016-06-01  12.936  13.012  13.096  33689.32  32828.04  35107.35      0.91  "
      ]
     },
     "execution_count": 27,
     "metadata": {},
     "output_type": "execute_result"
    }
   ],
   "source": [
    "data.set_index(ts1)"
   ]
  },
  {
   "cell_type": "code",
   "execution_count": 29,
   "metadata": {
    "collapsed": false
   },
   "outputs": [
    {
     "data": {
      "text/html": [
       "<div>\n",
       "<table border=\"1\" class=\"dataframe\">\n",
       "  <thead>\n",
       "    <tr style=\"text-align: right;\">\n",
       "      <th></th>\n",
       "      <th>open</th>\n",
       "      <th>high</th>\n",
       "      <th>close</th>\n",
       "      <th>low</th>\n",
       "      <th>volume</th>\n",
       "      <th>price_change</th>\n",
       "      <th>p_change</th>\n",
       "      <th>ma5</th>\n",
       "      <th>ma10</th>\n",
       "      <th>ma20</th>\n",
       "      <th>v_ma5</th>\n",
       "      <th>v_ma10</th>\n",
       "      <th>v_ma20</th>\n",
       "      <th>turnover</th>\n",
       "    </tr>\n",
       "    <tr>\n",
       "      <th>date</th>\n",
       "      <th></th>\n",
       "      <th></th>\n",
       "      <th></th>\n",
       "      <th></th>\n",
       "      <th></th>\n",
       "      <th></th>\n",
       "      <th></th>\n",
       "      <th></th>\n",
       "      <th></th>\n",
       "      <th></th>\n",
       "      <th></th>\n",
       "      <th></th>\n",
       "      <th></th>\n",
       "      <th></th>\n",
       "    </tr>\n",
       "  </thead>\n",
       "  <tbody>\n",
       "    <tr>\n",
       "      <th>2016-06-08</th>\n",
       "      <td>13.30</td>\n",
       "      <td>13.36</td>\n",
       "      <td>13.25</td>\n",
       "      <td>13.11</td>\n",
       "      <td>27357.47</td>\n",
       "      <td>0.04</td>\n",
       "      <td>0.30</td>\n",
       "      <td>13.386</td>\n",
       "      <td>13.161</td>\n",
       "      <td>13.141</td>\n",
       "      <td>34530.42</td>\n",
       "      <td>34109.87</td>\n",
       "      <td>34524.14</td>\n",
       "      <td>0.52</td>\n",
       "    </tr>\n",
       "    <tr>\n",
       "      <th>2016-06-07</th>\n",
       "      <td>13.45</td>\n",
       "      <td>13.53</td>\n",
       "      <td>13.37</td>\n",
       "      <td>13.27</td>\n",
       "      <td>30523.44</td>\n",
       "      <td>-0.10</td>\n",
       "      <td>-0.74</td>\n",
       "      <td>13.376</td>\n",
       "      <td>13.134</td>\n",
       "      <td>13.122</td>\n",
       "      <td>38616.91</td>\n",
       "      <td>33660.77</td>\n",
       "      <td>34643.12</td>\n",
       "      <td>0.58</td>\n",
       "    </tr>\n",
       "    <tr>\n",
       "      <th>2016-06-06</th>\n",
       "      <td>13.61</td>\n",
       "      <td>13.65</td>\n",
       "      <td>13.47</td>\n",
       "      <td>13.42</td>\n",
       "      <td>29164.29</td>\n",
       "      <td>-0.08</td>\n",
       "      <td>-0.59</td>\n",
       "      <td>13.332</td>\n",
       "      <td>13.105</td>\n",
       "      <td>13.097</td>\n",
       "      <td>41218.94</td>\n",
       "      <td>33022.96</td>\n",
       "      <td>34644.02</td>\n",
       "      <td>0.56</td>\n",
       "    </tr>\n",
       "    <tr>\n",
       "      <th>2016-06-03</th>\n",
       "      <td>13.33</td>\n",
       "      <td>13.56</td>\n",
       "      <td>13.55</td>\n",
       "      <td>13.22</td>\n",
       "      <td>49586.62</td>\n",
       "      <td>0.26</td>\n",
       "      <td>1.96</td>\n",
       "      <td>13.170</td>\n",
       "      <td>13.089</td>\n",
       "      <td>13.062</td>\n",
       "      <td>39284.94</td>\n",
       "      <td>33164.21</td>\n",
       "      <td>35324.08</td>\n",
       "      <td>0.95</td>\n",
       "    </tr>\n",
       "    <tr>\n",
       "      <th>2016-06-02</th>\n",
       "      <td>13.25</td>\n",
       "      <td>13.41</td>\n",
       "      <td>13.29</td>\n",
       "      <td>13.10</td>\n",
       "      <td>36020.29</td>\n",
       "      <td>0.09</td>\n",
       "      <td>0.68</td>\n",
       "      <td>13.018</td>\n",
       "      <td>13.031</td>\n",
       "      <td>13.059</td>\n",
       "      <td>34189.75</td>\n",
       "      <td>32300.38</td>\n",
       "      <td>35458.74</td>\n",
       "      <td>0.69</td>\n",
       "    </tr>\n",
       "    <tr>\n",
       "      <th>2016-06-01</th>\n",
       "      <td>13.20</td>\n",
       "      <td>13.46</td>\n",
       "      <td>13.20</td>\n",
       "      <td>13.15</td>\n",
       "      <td>47789.89</td>\n",
       "      <td>0.05</td>\n",
       "      <td>0.38</td>\n",
       "      <td>12.936</td>\n",
       "      <td>13.012</td>\n",
       "      <td>13.096</td>\n",
       "      <td>33689.32</td>\n",
       "      <td>32828.04</td>\n",
       "      <td>35107.35</td>\n",
       "      <td>0.91</td>\n",
       "    </tr>\n",
       "  </tbody>\n",
       "</table>\n",
       "</div>"
      ],
      "text/plain": [
       "             open   high  close    low    volume  price_change  p_change  \\\n",
       "date                                                                       \n",
       "2016-06-08  13.30  13.36  13.25  13.11  27357.47          0.04      0.30   \n",
       "2016-06-07  13.45  13.53  13.37  13.27  30523.44         -0.10     -0.74   \n",
       "2016-06-06  13.61  13.65  13.47  13.42  29164.29         -0.08     -0.59   \n",
       "2016-06-03  13.33  13.56  13.55  13.22  49586.62          0.26      1.96   \n",
       "2016-06-02  13.25  13.41  13.29  13.10  36020.29          0.09      0.68   \n",
       "2016-06-01  13.20  13.46  13.20  13.15  47789.89          0.05      0.38   \n",
       "\n",
       "               ma5    ma10    ma20     v_ma5    v_ma10    v_ma20  turnover  \n",
       "date                                                                        \n",
       "2016-06-08  13.386  13.161  13.141  34530.42  34109.87  34524.14      0.52  \n",
       "2016-06-07  13.376  13.134  13.122  38616.91  33660.77  34643.12      0.58  \n",
       "2016-06-06  13.332  13.105  13.097  41218.94  33022.96  34644.02      0.56  \n",
       "2016-06-03  13.170  13.089  13.062  39284.94  33164.21  35324.08      0.95  \n",
       "2016-06-02  13.018  13.031  13.059  34189.75  32300.38  35458.74      0.69  \n",
       "2016-06-01  12.936  13.012  13.096  33689.32  32828.04  35107.35      0.91  "
      ]
     },
     "execution_count": 29,
     "metadata": {},
     "output_type": "execute_result"
    }
   ],
   "source": [
    "data"
   ]
  },
  {
   "cell_type": "markdown",
   "metadata": {},
   "source": [
    "## 图形化展示"
   ]
  },
  {
   "cell_type": "code",
   "execution_count": 34,
   "metadata": {
    "collapsed": false
   },
   "outputs": [
    {
     "name": "stdout",
     "output_type": "stream",
     "text": [
      "date\n",
      "2016-06-08    13.30\n",
      "2016-06-07    13.45\n",
      "2016-06-06    13.61\n",
      "2016-06-03    13.33\n",
      "2016-06-02    13.25\n",
      "2016-06-01    13.20\n",
      "Name: open, dtype: float64\n"
     ]
    }
   ],
   "source": [
    "import matplotlib.pyplot as plt\n",
    "%matplotlib inline\n",
    "print data['open']\n",
    "plt.plot(data['open'])\n",
    "plt.show()"
   ]
  },
  {
   "cell_type": "markdown",
   "metadata": {},
   "source": [
    "## 查看复权数据"
   ]
  },
  {
   "cell_type": "code",
   "execution_count": 37,
   "metadata": {
    "collapsed": false
   },
   "outputs": [
    {
     "name": "stdout",
     "output_type": "stream",
     "text": [
      "[Getting data:]######"
     ]
    }
   ],
   "source": [
    "dq=ts.get_h_data('000001',start='2015-01-01',end='2016-08-16')"
   ]
  },
  {
   "cell_type": "code",
   "execution_count": 39,
   "metadata": {
    "collapsed": false,
    "scrolled": true
   },
   "outputs": [
    {
     "name": "stdout",
     "output_type": "stream",
     "text": [
      "             open   high  close    low       volume        amount\n",
      "date                                                             \n",
      "2016-08-16   9.68   9.68   9.52   9.46  109955862.0  1.050480e+09\n",
      "2016-08-15   9.55   9.80   9.68   9.51  189755226.0  1.835197e+09\n",
      "2016-08-12   9.20   9.53   9.50   9.18  137002155.0  1.282336e+09\n",
      "2016-08-11   9.14   9.35   9.22   9.13   93557601.0  8.665949e+08\n",
      "2016-08-10   9.15   9.18   9.14   9.12   43665545.0  3.996570e+08\n",
      "2016-08-09   9.09   9.15   9.15   9.07   41567631.0  3.787207e+08\n",
      "2016-08-08   9.04   9.11   9.11   9.01   39847930.0  3.611910e+08\n",
      "2016-08-05   8.99   9.07   9.04   8.95   72594819.0  6.549981e+08\n",
      "2016-08-04   9.17   9.18   8.99   8.93  134446207.0  1.210347e+09\n",
      "2016-08-03   9.21   9.22   9.18   9.15   42462218.0  3.898175e+08\n",
      "2016-08-02   9.24   9.26   9.25   9.17   44916516.0  4.134846e+08\n",
      "2016-08-01   9.18   9.34   9.28   9.17   75932441.0  7.024666e+08\n",
      "2016-07-29   9.08   9.24   9.20   9.03   67142534.0  6.149727e+08\n",
      "2016-07-28   8.98   9.11   9.08   8.97   47991038.0  4.344905e+08\n",
      "2016-07-27   9.12   9.17   9.01   8.91   81867834.0  7.412633e+08\n",
      "2016-07-26   8.97   9.12   9.11   8.97   54655692.0  4.945064e+08\n",
      "2016-07-25   8.93   8.98   8.98   8.91   26468286.0  2.369375e+08\n",
      "2016-07-22   8.99   8.99   8.94   8.92   29554964.0  2.643792e+08\n",
      "2016-07-21   8.95   9.01   8.99   8.95   34026127.0  3.057103e+08\n",
      "2016-07-20   8.96   8.99   8.96   8.95   31092641.0  2.787372e+08\n",
      "2016-07-19   9.04   9.05   8.97   8.95   36278781.0  3.260465e+08\n",
      "2016-07-18   8.99   9.08   9.04   8.97   50693492.0  4.573580e+08\n",
      "2016-07-15   8.95   9.00   8.99   8.91   35203395.0  3.155553e+08\n",
      "2016-07-14   8.97   9.00   8.94   8.91   35969939.0  3.218893e+08\n",
      "2016-07-13   8.88   9.05   8.99   8.86   79828864.0  7.167970e+08\n",
      "2016-07-12   8.75   8.89   8.88   8.74   71183240.0  6.275056e+08\n",
      "2016-07-11   8.75   8.79   8.75   8.74   36537252.0  3.203338e+08\n",
      "2016-07-08   8.79   8.79   8.74   8.73   26134229.0  2.287787e+08\n",
      "2016-07-07   8.79   8.80   8.78   8.74   31285308.0  2.743372e+08\n",
      "2016-07-06   8.80   8.82   8.79   8.76   32295017.0  2.838274e+08\n",
      "...           ...    ...    ...    ...          ...           ...\n",
      "2015-02-13   9.45   9.62   9.46   9.39   88774312.0  1.244515e+09\n",
      "2015-02-12   9.33   9.43   9.40   9.24   60871568.0  8.386113e+08\n",
      "2015-02-11   9.35   9.39   9.31   9.28   55434952.0  7.634146e+08\n",
      "2015-02-10   9.15   9.37   9.34   9.10   72487536.0  9.918237e+08\n",
      "2015-02-09   9.16   9.28   9.17   8.97   94658624.0  1.273141e+09\n",
      "2015-02-06   9.29   9.46   9.16   9.09  103040856.0  1.411299e+09\n",
      "2015-02-05   9.70   9.79   9.35   9.33  191372912.0  2.710524e+09\n",
      "2015-02-04   9.50   9.52   9.30   9.29   80762312.0  1.122667e+09\n",
      "2015-02-03   9.35   9.49   9.46   9.24   88334912.0  1.217877e+09\n",
      "2015-02-02   9.23   9.36   9.25   9.19   86093216.0  1.176950e+09\n",
      "2015-01-30   9.45   9.58   9.45   9.33   93011672.0  1.298736e+09\n",
      "2015-01-29   9.37   9.50   9.43   9.33  101675328.0  1.408825e+09\n",
      "2015-01-28   9.41   9.70   9.54   9.36  124087752.0  1.742176e+09\n",
      "2015-01-27   9.73   9.75   9.49   9.38  133949464.0  1.881059e+09\n",
      "2015-01-26   9.74   9.79   9.73   9.61  105760576.0  1.508447e+09\n",
      "2015-01-23   9.74   9.92   9.77   9.70  145918192.0  2.108747e+09\n",
      "2015-01-22   9.73   9.85   9.70   9.61  125501608.0  1.801436e+09\n",
      "2015-01-21   9.42   9.90   9.78   9.33  194053040.0  2.758193e+09\n",
      "2015-01-20   9.38   9.54   9.38   9.20  149101808.0  2.064281e+09\n",
      "2015-01-19   9.50   9.88   9.38   9.38  213712368.0  3.016203e+09\n",
      "2015-01-16  10.45  10.60  10.43  10.30  155584640.0  2.403346e+09\n",
      "2015-01-15  10.07  10.41  10.41   9.98  124217032.0  1.868796e+09\n",
      "2015-01-14  10.03  10.31  10.05   9.97  126302960.0  1.889297e+09\n",
      "2015-01-13   9.94  10.11   9.96   9.91   81687480.0  1.204987e+09\n",
      "2015-01-12  10.09  10.21  10.02   9.84  155329088.0  2.293105e+09\n",
      "2015-01-09  10.11  10.76  10.23   9.98  250850016.0  3.835378e+09\n",
      "2015-01-08  10.51  10.56  10.15  10.11  140771424.0  2.128003e+09\n",
      "2015-01-07  10.55  10.74  10.50  10.38  170012064.0  2.634796e+09\n",
      "2015-01-06  10.75  11.12  10.70  10.55  216642144.0  3.453446e+09\n",
      "2015-01-05  10.85  11.04  10.87  10.58  286043648.0  4.565388e+09\n",
      "\n",
      "[397 rows x 6 columns]\n"
     ]
    }
   ],
   "source": [
    "print dq"
   ]
  },
  {
   "cell_type": "code",
   "execution_count": 47,
   "metadata": {
    "collapsed": true
   },
   "outputs": [],
   "source": [
    "dq.to_csv('000001.csv')"
   ]
  },
  {
   "cell_type": "code",
   "execution_count": 49,
   "metadata": {
    "collapsed": false
   },
   "outputs": [
    {
     "name": "stdout",
     "output_type": "stream",
     "text": [
      "[Getting data:]####timed out\n",
      "##"
     ]
    },
    {
     "ename": "timeout",
     "evalue": "timed out",
     "output_type": "error",
     "traceback": [
      "\u001b[1;31m---------------------------------------------------------------------------\u001b[0m",
      "\u001b[1;31mtimeout\u001b[0m                                   Traceback (most recent call last)",
      "\u001b[1;32m<ipython-input-49-5248aa305442>\u001b[0m in \u001b[0;36m<module>\u001b[1;34m()\u001b[0m\n\u001b[1;32m----> 1\u001b[1;33m \u001b[0mtmp\u001b[0m\u001b[1;33m=\u001b[0m\u001b[0mts\u001b[0m\u001b[1;33m.\u001b[0m\u001b[0mget_h_data\u001b[0m\u001b[1;33m(\u001b[0m\u001b[1;34m'600598'\u001b[0m\u001b[1;33m,\u001b[0m\u001b[0mstart\u001b[0m\u001b[1;33m=\u001b[0m\u001b[1;34m'2015-01-01'\u001b[0m\u001b[1;33m,\u001b[0m\u001b[0mend\u001b[0m\u001b[1;33m=\u001b[0m\u001b[1;34m'2016-08-16'\u001b[0m\u001b[1;33m)\u001b[0m\u001b[1;33m\u001b[0m\u001b[0m\n\u001b[0m",
      "\u001b[1;32mC:\\Users\\sunq\\Anaconda2\\lib\\site-packages\\tushare\\stock\\trading.pyc\u001b[0m in \u001b[0;36mget_h_data\u001b[1;34m(code, start, end, autype, index, retry_count, pause, drop_factor)\u001b[0m\n\u001b[0;32m    437\u001b[0m             \u001b[1;32mif\u001b[0m \u001b[0mdrop_factor\u001b[0m\u001b[1;33m:\u001b[0m\u001b[1;33m\u001b[0m\u001b[0m\n\u001b[0;32m    438\u001b[0m                 \u001b[0mdata\u001b[0m \u001b[1;33m=\u001b[0m \u001b[0mdata\u001b[0m\u001b[1;33m.\u001b[0m\u001b[0mdrop\u001b[0m\u001b[1;33m(\u001b[0m\u001b[1;34m'factor'\u001b[0m\u001b[1;33m,\u001b[0m \u001b[0maxis\u001b[0m\u001b[1;33m=\u001b[0m\u001b[1;36m1\u001b[0m\u001b[1;33m)\u001b[0m\u001b[1;33m\u001b[0m\u001b[0m\n\u001b[1;32m--> 439\u001b[1;33m             \u001b[0mdf\u001b[0m \u001b[1;33m=\u001b[0m \u001b[0m_parase_fq_factor\u001b[0m\u001b[1;33m(\u001b[0m\u001b[0mcode\u001b[0m\u001b[1;33m,\u001b[0m \u001b[0mstart\u001b[0m\u001b[1;33m,\u001b[0m \u001b[0mend\u001b[0m\u001b[1;33m)\u001b[0m\u001b[1;33m\u001b[0m\u001b[0m\n\u001b[0m\u001b[0;32m    440\u001b[0m             \u001b[0mdf\u001b[0m \u001b[1;33m=\u001b[0m \u001b[0mdf\u001b[0m\u001b[1;33m.\u001b[0m\u001b[0mdrop_duplicates\u001b[0m\u001b[1;33m(\u001b[0m\u001b[1;34m'date'\u001b[0m\u001b[1;33m)\u001b[0m\u001b[1;33m\u001b[0m\u001b[0m\n\u001b[0;32m    441\u001b[0m             \u001b[0mdf\u001b[0m \u001b[1;33m=\u001b[0m \u001b[0mdf\u001b[0m\u001b[1;33m.\u001b[0m\u001b[0msort\u001b[0m\u001b[1;33m(\u001b[0m\u001b[1;34m'date'\u001b[0m\u001b[1;33m,\u001b[0m \u001b[0mascending\u001b[0m\u001b[1;33m=\u001b[0m\u001b[0mFalse\u001b[0m\u001b[1;33m)\u001b[0m\u001b[1;33m\u001b[0m\u001b[0m\n",
      "\u001b[1;32mC:\\Users\\sunq\\Anaconda2\\lib\\site-packages\\tushare\\stock\\trading.pyc\u001b[0m in \u001b[0;36m_parase_fq_factor\u001b[1;34m(code, start, end)\u001b[0m\n\u001b[0;32m    483\u001b[0m     request = Request(ct.HIST_FQ_FACTOR_URL%(ct.P_TYPE['http'],\n\u001b[0;32m    484\u001b[0m                                              ct.DOMAINS['vsf'], symbol))\n\u001b[1;32m--> 485\u001b[1;33m     \u001b[0mtext\u001b[0m \u001b[1;33m=\u001b[0m \u001b[0murlopen\u001b[0m\u001b[1;33m(\u001b[0m\u001b[0mrequest\u001b[0m\u001b[1;33m,\u001b[0m \u001b[0mtimeout\u001b[0m\u001b[1;33m=\u001b[0m\u001b[1;36m10\u001b[0m\u001b[1;33m)\u001b[0m\u001b[1;33m.\u001b[0m\u001b[0mread\u001b[0m\u001b[1;33m(\u001b[0m\u001b[1;33m)\u001b[0m\u001b[1;33m\u001b[0m\u001b[0m\n\u001b[0m\u001b[0;32m    486\u001b[0m     \u001b[0mtext\u001b[0m \u001b[1;33m=\u001b[0m \u001b[0mtext\u001b[0m\u001b[1;33m[\u001b[0m\u001b[1;36m1\u001b[0m\u001b[1;33m:\u001b[0m\u001b[0mlen\u001b[0m\u001b[1;33m(\u001b[0m\u001b[0mtext\u001b[0m\u001b[1;33m)\u001b[0m\u001b[1;33m-\u001b[0m\u001b[1;36m1\u001b[0m\u001b[1;33m]\u001b[0m\u001b[1;33m\u001b[0m\u001b[0m\n\u001b[0;32m    487\u001b[0m     \u001b[0mtext\u001b[0m \u001b[1;33m=\u001b[0m \u001b[0mtext\u001b[0m\u001b[1;33m.\u001b[0m\u001b[0mdecode\u001b[0m\u001b[1;33m(\u001b[0m\u001b[1;34m'utf-8'\u001b[0m\u001b[1;33m)\u001b[0m \u001b[1;32mif\u001b[0m \u001b[0mct\u001b[0m\u001b[1;33m.\u001b[0m\u001b[0mPY3\u001b[0m \u001b[1;32melse\u001b[0m \u001b[0mtext\u001b[0m\u001b[1;33m\u001b[0m\u001b[0m\n",
      "\u001b[1;32mC:\\Users\\sunq\\Anaconda2\\lib\\socket.pyc\u001b[0m in \u001b[0;36mread\u001b[1;34m(self, size)\u001b[0m\n\u001b[0;32m    353\u001b[0m             \u001b[1;32mwhile\u001b[0m \u001b[0mTrue\u001b[0m\u001b[1;33m:\u001b[0m\u001b[1;33m\u001b[0m\u001b[0m\n\u001b[0;32m    354\u001b[0m                 \u001b[1;32mtry\u001b[0m\u001b[1;33m:\u001b[0m\u001b[1;33m\u001b[0m\u001b[0m\n\u001b[1;32m--> 355\u001b[1;33m                     \u001b[0mdata\u001b[0m \u001b[1;33m=\u001b[0m \u001b[0mself\u001b[0m\u001b[1;33m.\u001b[0m\u001b[0m_sock\u001b[0m\u001b[1;33m.\u001b[0m\u001b[0mrecv\u001b[0m\u001b[1;33m(\u001b[0m\u001b[0mrbufsize\u001b[0m\u001b[1;33m)\u001b[0m\u001b[1;33m\u001b[0m\u001b[0m\n\u001b[0m\u001b[0;32m    356\u001b[0m                 \u001b[1;32mexcept\u001b[0m \u001b[0merror\u001b[0m\u001b[1;33m,\u001b[0m \u001b[0me\u001b[0m\u001b[1;33m:\u001b[0m\u001b[1;33m\u001b[0m\u001b[0m\n\u001b[0;32m    357\u001b[0m                     \u001b[1;32mif\u001b[0m \u001b[0me\u001b[0m\u001b[1;33m.\u001b[0m\u001b[0margs\u001b[0m\u001b[1;33m[\u001b[0m\u001b[1;36m0\u001b[0m\u001b[1;33m]\u001b[0m \u001b[1;33m==\u001b[0m \u001b[0mEINTR\u001b[0m\u001b[1;33m:\u001b[0m\u001b[1;33m\u001b[0m\u001b[0m\n",
      "\u001b[1;32mC:\\Users\\sunq\\Anaconda2\\lib\\httplib.pyc\u001b[0m in \u001b[0;36mread\u001b[1;34m(self, amt)\u001b[0m\n\u001b[0;32m    586\u001b[0m \u001b[1;33m\u001b[0m\u001b[0m\n\u001b[0;32m    587\u001b[0m         \u001b[1;32mif\u001b[0m \u001b[0mself\u001b[0m\u001b[1;33m.\u001b[0m\u001b[0mchunked\u001b[0m\u001b[1;33m:\u001b[0m\u001b[1;33m\u001b[0m\u001b[0m\n\u001b[1;32m--> 588\u001b[1;33m             \u001b[1;32mreturn\u001b[0m \u001b[0mself\u001b[0m\u001b[1;33m.\u001b[0m\u001b[0m_read_chunked\u001b[0m\u001b[1;33m(\u001b[0m\u001b[0mamt\u001b[0m\u001b[1;33m)\u001b[0m\u001b[1;33m\u001b[0m\u001b[0m\n\u001b[0m\u001b[0;32m    589\u001b[0m \u001b[1;33m\u001b[0m\u001b[0m\n\u001b[0;32m    590\u001b[0m         \u001b[1;32mif\u001b[0m \u001b[0mamt\u001b[0m \u001b[1;32mis\u001b[0m \u001b[0mNone\u001b[0m\u001b[1;33m:\u001b[0m\u001b[1;33m\u001b[0m\u001b[0m\n",
      "\u001b[1;32mC:\\Users\\sunq\\Anaconda2\\lib\\httplib.pyc\u001b[0m in \u001b[0;36m_read_chunked\u001b[1;34m(self, amt)\u001b[0m\n\u001b[0;32m    655\u001b[0m                 \u001b[1;32mreturn\u001b[0m \u001b[1;34m''\u001b[0m\u001b[1;33m.\u001b[0m\u001b[0mjoin\u001b[0m\u001b[1;33m(\u001b[0m\u001b[0mvalue\u001b[0m\u001b[1;33m)\u001b[0m\u001b[1;33m\u001b[0m\u001b[0m\n\u001b[0;32m    656\u001b[0m             \u001b[1;32melse\u001b[0m\u001b[1;33m:\u001b[0m\u001b[1;33m\u001b[0m\u001b[0m\n\u001b[1;32m--> 657\u001b[1;33m                 \u001b[0mvalue\u001b[0m\u001b[1;33m.\u001b[0m\u001b[0mappend\u001b[0m\u001b[1;33m(\u001b[0m\u001b[0mself\u001b[0m\u001b[1;33m.\u001b[0m\u001b[0m_safe_read\u001b[0m\u001b[1;33m(\u001b[0m\u001b[0mchunk_left\u001b[0m\u001b[1;33m)\u001b[0m\u001b[1;33m)\u001b[0m\u001b[1;33m\u001b[0m\u001b[0m\n\u001b[0m\u001b[0;32m    658\u001b[0m                 \u001b[0mamt\u001b[0m \u001b[1;33m-=\u001b[0m \u001b[0mchunk_left\u001b[0m\u001b[1;33m\u001b[0m\u001b[0m\n\u001b[0;32m    659\u001b[0m \u001b[1;33m\u001b[0m\u001b[0m\n",
      "\u001b[1;32mC:\\Users\\sunq\\Anaconda2\\lib\\httplib.pyc\u001b[0m in \u001b[0;36m_safe_read\u001b[1;34m(self, amt)\u001b[0m\n\u001b[0;32m    701\u001b[0m         \u001b[0ms\u001b[0m \u001b[1;33m=\u001b[0m \u001b[1;33m[\u001b[0m\u001b[1;33m]\u001b[0m\u001b[1;33m\u001b[0m\u001b[0m\n\u001b[0;32m    702\u001b[0m         \u001b[1;32mwhile\u001b[0m \u001b[0mamt\u001b[0m \u001b[1;33m>\u001b[0m \u001b[1;36m0\u001b[0m\u001b[1;33m:\u001b[0m\u001b[1;33m\u001b[0m\u001b[0m\n\u001b[1;32m--> 703\u001b[1;33m             \u001b[0mchunk\u001b[0m \u001b[1;33m=\u001b[0m \u001b[0mself\u001b[0m\u001b[1;33m.\u001b[0m\u001b[0mfp\u001b[0m\u001b[1;33m.\u001b[0m\u001b[0mread\u001b[0m\u001b[1;33m(\u001b[0m\u001b[0mmin\u001b[0m\u001b[1;33m(\u001b[0m\u001b[0mamt\u001b[0m\u001b[1;33m,\u001b[0m \u001b[0mMAXAMOUNT\u001b[0m\u001b[1;33m)\u001b[0m\u001b[1;33m)\u001b[0m\u001b[1;33m\u001b[0m\u001b[0m\n\u001b[0m\u001b[0;32m    704\u001b[0m             \u001b[1;32mif\u001b[0m \u001b[1;32mnot\u001b[0m \u001b[0mchunk\u001b[0m\u001b[1;33m:\u001b[0m\u001b[1;33m\u001b[0m\u001b[0m\n\u001b[0;32m    705\u001b[0m                 \u001b[1;32mraise\u001b[0m \u001b[0mIncompleteRead\u001b[0m\u001b[1;33m(\u001b[0m\u001b[1;34m''\u001b[0m\u001b[1;33m.\u001b[0m\u001b[0mjoin\u001b[0m\u001b[1;33m(\u001b[0m\u001b[0ms\u001b[0m\u001b[1;33m)\u001b[0m\u001b[1;33m,\u001b[0m \u001b[0mamt\u001b[0m\u001b[1;33m)\u001b[0m\u001b[1;33m\u001b[0m\u001b[0m\n",
      "\u001b[1;32mC:\\Users\\sunq\\Anaconda2\\lib\\socket.pyc\u001b[0m in \u001b[0;36mread\u001b[1;34m(self, size)\u001b[0m\n\u001b[0;32m    382\u001b[0m                 \u001b[1;31m# fragmentation issues on many platforms.\u001b[0m\u001b[1;33m\u001b[0m\u001b[1;33m\u001b[0m\u001b[0m\n\u001b[0;32m    383\u001b[0m                 \u001b[1;32mtry\u001b[0m\u001b[1;33m:\u001b[0m\u001b[1;33m\u001b[0m\u001b[0m\n\u001b[1;32m--> 384\u001b[1;33m                     \u001b[0mdata\u001b[0m \u001b[1;33m=\u001b[0m \u001b[0mself\u001b[0m\u001b[1;33m.\u001b[0m\u001b[0m_sock\u001b[0m\u001b[1;33m.\u001b[0m\u001b[0mrecv\u001b[0m\u001b[1;33m(\u001b[0m\u001b[0mleft\u001b[0m\u001b[1;33m)\u001b[0m\u001b[1;33m\u001b[0m\u001b[0m\n\u001b[0m\u001b[0;32m    385\u001b[0m                 \u001b[1;32mexcept\u001b[0m \u001b[0merror\u001b[0m\u001b[1;33m,\u001b[0m \u001b[0me\u001b[0m\u001b[1;33m:\u001b[0m\u001b[1;33m\u001b[0m\u001b[0m\n\u001b[0;32m    386\u001b[0m                     \u001b[1;32mif\u001b[0m \u001b[0me\u001b[0m\u001b[1;33m.\u001b[0m\u001b[0margs\u001b[0m\u001b[1;33m[\u001b[0m\u001b[1;36m0\u001b[0m\u001b[1;33m]\u001b[0m \u001b[1;33m==\u001b[0m \u001b[0mEINTR\u001b[0m\u001b[1;33m:\u001b[0m\u001b[1;33m\u001b[0m\u001b[0m\n",
      "\u001b[1;31mtimeout\u001b[0m: timed out"
     ]
    }
   ],
   "source": [
    "tmp=ts.get_h_data('600598',start='2015-01-01',end='2016-08-16')"
   ]
  },
  {
   "cell_type": "code",
   "execution_count": null,
   "metadata": {
    "collapsed": false
   },
   "outputs": [],
   "source": [
    "print tmp"
   ]
  },
  {
   "cell_type": "markdown",
   "metadata": {},
   "source": [
    "## 查看帮助"
   ]
  },
  {
   "cell_type": "code",
   "execution_count": null,
   "metadata": {
    "collapsed": false
   },
   "outputs": [],
   "source": [
    "help(ts.get_h_data)"
   ]
  },
  {
   "cell_type": "code",
   "execution_count": null,
   "metadata": {
    "collapsed": false
   },
   "outputs": [],
   "source": [
    "help(ts.get_hist_data)"
   ]
  },
  {
   "cell_type": "code",
   "execution_count": null,
   "metadata": {
    "collapsed": true
   },
   "outputs": [],
   "source": []
  }
 ],
 "metadata": {
  "anaconda-cloud": {},
  "kernelspec": {
   "display_name": "Python [Root]",
   "language": "python",
   "name": "Python [Root]"
  },
  "language_info": {
   "codemirror_mode": {
    "name": "ipython",
    "version": 2
   },
   "file_extension": ".py",
   "mimetype": "text/x-python",
   "name": "python",
   "nbconvert_exporter": "python",
   "pygments_lexer": "ipython2",
   "version": "2.7.11"
  }
 },
 "nbformat": 4,
 "nbformat_minor": 0
}
