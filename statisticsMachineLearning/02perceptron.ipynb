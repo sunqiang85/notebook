{
 "cells": [
  {
   "cell_type": "markdown",
   "metadata": {},
   "source": [
    "# 感知器笔记\n",
    "## 感知机模型\n",
    "定义2.1（感知机）假设输入空间（特征空间）是$x \\in R^n$,输出空间是$\\mathcal{Y}=\\{+1,-1\\}$\n",
    "$$\n",
    "\\begin{equation}\n",
    "f(x)=sign(w\\cdot x+b)\n",
    "\\end{equation}\n",
    "$$\n",
    "$$\n",
    "\\begin{equation}\n",
    "sign(x)=\n",
    "\\begin{cases}\n",
    "+1, & x \\ge 0 \\\\\n",
    "-1, & x \\lt 0\n",
    "\\end{cases}\n",
    "\\end{equation}\n",
    "$$\n",
    "\n",
    "## 感知机学习策略\n",
    "### 数据的线性可分析\n",
    "### 感知机学习策略\n",
    "假设超平面$S$的误分类点集合为M，那么所有误分类点到超平面S的总距离为\n",
    "$$\n",
    "-\\frac{1}{\\Vert w \\Vert}\\sum_{x_i \\in M}y_i(w \\cdot x_i+b)\n",
    "$$\n",
    "感知机$sign(w\\cdot x+b)$的损失函数定义为\n",
    "$$\n",
    "L(w,b)=-\\sum_{x_i \\in M}y_i(w \\cdot x_i+b)\n",
    "$$\n",
    "### 感知器学习算法\n",
    "随机梯度下降法（stochastic gradient descent)\n",
    "输入：训练数据集$T=\\{(x_1,y_1),(x_2,y_2),\\ldots,(x_N,y_N)\\}$，其中$\\mathcal{Y}=\\{-1,+1\\}$,学习率$\\eta(0\\lt \\eta \\le 1)$  \n",
    "输出：$w,b$;感知机模型$f(x)=sign(w\\cdot x+b)$\n",
    "1. 选取初值$w_0,b_0$\n",
    "2. 在训练集中选取数据$(x_i,y_i)$\n",
    "3. 如果$y_i(w\\cdot x_i+b) \\le 0$\n",
    "4. 转至第2步，直到训练集中没有误分类点。\n",
    "$$\n",
    "w \\gets w+\\eta y_i x_i \\\\\n",
    "b \\gets b+\\eta y_i\n",
    "$$\n",
    "\n",
    "直观感觉为什么可行？不妨设$(x_i,y_i)$为误分类点\n",
    "$$\n",
    "\\begin{eqnarray*}\n",
    "y_i(w_{t+1}x_i+b_{t+1}) & = &y_i((w_t+\\eta y_i x_i)x_i+b_t+\\eta y_i) \\\\\n",
    " & = &y_i(w_t+b_t)+\\eta y_i^2 x_i^2+ \\eta y_i^2 \\\\\n",
    " & \\ge & y_i(w_t+b_t)\n",
    "\\end{eqnarray*}\n",
    "$$\n",
    "可见$y_i(w_{t+1}x_i+b_{t+1})$是递增的，最终会大于0，即正确分类。"
   ]
  },
  {
   "cell_type": "code",
   "execution_count": 6,
   "metadata": {
    "collapsed": false
   },
   "outputs": [
    {
     "name": "stdout",
     "output_type": "stream",
     "text": [
      "81.5\n"
     ]
    }
   ],
   "source": [
    "def targetFunc(x):\n",
    "    return -2*x[0]+x[1]+80.5\n",
    "a=[1,3]\n",
    "print targetFunc(a)"
   ]
  },
  {
   "cell_type": "code",
   "execution_count": 13,
   "metadata": {
    "collapsed": false
   },
   "outputs": [
    {
     "name": "stdout",
     "output_type": "stream",
     "text": [
      "[24, 61, 68, 29, 97, 100, 97, 30, 17, 25, 21, 44, 29, 28, 64, 11, 29, 28, 40, 37]\n",
      "[55, 9, 87, 46, 32, 29, 77, 93, 17, 95, 60, 1, 87, 68, 96, 76, 44, 56, 24, 60]\n",
      "[1, -1, 1, 1, -1, -1, -1, 1, 1, 1, 1, -1, 1, 1, 1, 1, 1, 1, 1, 1]\n"
     ]
    }
   ],
   "source": [
    "import random\n",
    "X1=[]\n",
    "X2=[]\n",
    "Y=[]\n",
    "C=[]\n",
    "S=[]\n",
    "for i in range(20):\n",
    "    x1=random.randint(0,100)\n",
    "    x2=random.randint(0,100)\n",
    "    y=targetFunc([x1,x2])\n",
    "    if y >0 :\n",
    "        X1.append(x1)\n",
    "        X2.append(x2)\n",
    "        Y.append(1)\n",
    "        C.append('b')\n",
    "        S.append('o')\n",
    "    elif y<0:\n",
    "        X1.append(x1)\n",
    "        X2.append(x2)\n",
    "        Y.append(-1)\n",
    "        C.append('r')\n",
    "        S.append('x')\n",
    "print X1\n",
    "print X2\n",
    "print Y\n",
    "    "
   ]
  },
  {
   "cell_type": "code",
   "execution_count": 28,
   "metadata": {
    "collapsed": false
   },
   "outputs": [
    {
     "data": {
      "image/png": "[encoded data removed]",
      "text/plain": [
       "<matplotlib.figure.Figure at 0x7108070>"
      ]
     },
     "metadata": {},
     "output_type": "display_data"
    }
   ],
   "source": [
    "%matplotlib inline\n",
    "import pylab as plt\n",
    "import seaborn\n",
    "\n",
    "seaborn.set()\n",
    "plt.scatter(X1,X2,c=C,marker='x')\n",
    "plt.show()"
   ]
  },
  {
   "cell_type": "code",
   "execution_count": 29,
   "metadata": {
    "collapsed": false
   },
   "outputs": [
    {
     "name": "stdout",
     "output_type": "stream",
     "text": [
      "[ 0.   0.2  0.4  0.6  0.8  1.   1.2  1.4  1.6  1.8  2. ]\n"
     ]
    },
    {
     "data": {
      "image/png": "[encoded data removed]",
      "text/plain": [
       "<matplotlib.figure.Figure at 0x9c66550>"
      ]
     },
     "metadata": {},
     "output_type": "display_data"
    }
   ],
   "source": [
    "import numpy as np\n",
    "x=np.linspace(0,2,11)\n",
    "print x\n",
    "plt.plot(x,'o-')\n",
    "plt.show()"
   ]
  },
  {
   "cell_type": "code",
   "execution_count": 36,
   "metadata": {
    "collapsed": false,
    "scrolled": true
   },
   "outputs": [
    {
     "data": {
      "image/png": "[encoded data removed]",
      "text/plain": [
       "<matplotlib.figure.Figure at 0xbe624f0>"
      ]
     },
     "metadata": {},
     "output_type": "display_data"
    }
   ],
   "source": [
    "ra=np.random.uniform(0,100,10)\n",
    "rb=np.random.uniform(0,200,10)\n",
    "ba=np.random.uniform(0,100,10)\n",
    "bb=np.random.uniform(0,200,10)\n",
    "c=['r' for i in range(10)]\n",
    "plt.scatter(ra,rb,marker='o')\n",
    "plt.scatter(ba,bb,marker='x',c=c)\n",
    "plt.show()"
   ]
  },
  {
   "cell_type": "code",
   "execution_count": null,
   "metadata": {
    "collapsed": false
   },
   "outputs": [],
   "source": []
  },
  {
   "cell_type": "code",
   "execution_count": null,
   "metadata": {
    "collapsed": true
   },
   "outputs": [],
   "source": []
  }
 ],
 "metadata": {
  "kernelspec": {
   "display_name": "Python [Root]",
   "language": "python",
   "name": "Python [Root]"
  },
  "language_info": {
   "codemirror_mode": {
    "name": "ipython",
    "version": 2
   },
   "file_extension": ".py",
   "mimetype": "text/x-python",
   "name": "python",
   "nbconvert_exporter": "python",
   "pygments_lexer": "ipython2",
   "version": "2.7.11"
  }
 },
 "nbformat": 4,
 "nbformat_minor": 0
}
