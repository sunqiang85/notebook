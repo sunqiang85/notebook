{
 "cells": [
  {
   "cell_type": "markdown",
   "metadata": {},
   "source": [
    "# 朴素贝叶斯法\n",
    "朴素贝叶斯法（naive bayes）法是基于贝叶斯定理与特征条件独立假设的分类方法。  \n",
    "条件独立假设\n",
    "$$\n",
    "\\begin{eqnarray}\n",
    "P(X=x|Y=c_k) &=& P(X^1=x^1,\\ldots,X^d=x^d|Y=c_k) \\\\\n",
    "& = & \\prod_{j=1}^d P(X^j=x^j|Y=c_k)\n",
    "\\end{eqnarray}\n",
    "$$\n",
    "其中$x^j$为$x$的属性"
   ]
  },
  {
   "cell_type": "markdown",
   "metadata": {},
   "source": [
    "后验概率最大化：\n",
    "$$\n",
    "\\DeclareMathOperator*{\\argmax}{arg\\,max}\n",
    "y=\\argmax_k P(Y=c_k|X=x)\n",
    "$$"
   ]
  },
  {
   "cell_type": "markdown",
   "metadata": {},
   "source": [
    "等价于期望风险最小化，假设选择0-1损失函数\n",
    "$$\n",
    "\\begin{equation}\n",
    "L(Y,f(X))=\n",
    "\\begin{cases}\n",
    "1, & Y \\ne f(X) \\\\\n",
    "0, & Y=f(X)\n",
    "\\end{cases}\n",
    "\\end{equation}\n",
    "$$"
   ]
  },
  {
   "cell_type": "markdown",
   "metadata": {},
   "source": [
    "期望风险函数为：\n",
    "$$\n",
    "R_{exp}(f)=E[Y,f(X)]\n",
    "$$"
   ]
  },
  {
   "cell_type": "markdown",
   "metadata": {},
   "source": [
    "期望是对联合分布$P(X,Y)$取的，由此取条件期望\n",
    "$$\n",
    "R_{exp}(f)=E_X \\sum_{k=1}^K[L(c_k,f(X))]P(c_k|X)\n",
    "$$"
   ]
  },
  {
   "cell_type": "markdown",
   "metadata": {},
   "source": [
    "为了使期望风险最小化，只需对$X=x$逐一最小化，由此得到\n",
    "$$\n",
    "\\begin{eqnarray}\n",
    "\\DeclareMathOperator*{\\argmin}{arg\\,min}\n",
    "f(x) &=& \\argmin_{y \\in \\mathcal{Y}} \\sum_{k=1}^K L(c_k,y)P(c_k|X=x) \\\\\n",
    "&=& \\argmin_{y \\in \\mathcal{Y}} \\sum_{k=1}^K P(y \\ne c_k|X=x) \\\\\n",
    "&=& \\argmin_{y \\in \\mathcal{Y}} \\sum_{k=1}^K (1-P(y = c_k|X=x)) \\\\\n",
    "&=& \\argmax_{y \\in \\mathcal{Y}} \\sum_{k=1}^K P(y = c_k|X=x)\n",
    "\\end{eqnarray}\n",
    "$$"
   ]
  },
  {
   "cell_type": "markdown",
   "metadata": {},
   "source": [
    "于是得到后验概率最大化准则：\n",
    "$$\n",
    "f(x)=\\argmax_{c_k}P(c_k|X=x)\n",
    "$$"
   ]
  },
  {
   "cell_type": "markdown",
   "metadata": {
    "collapsed": true
   },
   "source": [
    "朴素贝叶斯分类时，对给定的输入x，通过学习到的模型计算后验概率分布$P(Y=c_k|X=x)$，将后验概率最大的分类作为x的类输出。\n",
    "$$\n",
    "\\begin{eqnarray}\n",
    "P(Y=c_k|X=x) &=& \\frac{P(X=x|Y=c_k)P(Y=c_k)}{ \\sum_{i=1}^K P(X=x|Y=c_i)P(Y=c_i)} \\\\\n",
    "&=& \\frac{\\prod_{j=1}^d P(X^j=x^j|Y=c_k) P(Y=c_k)}{\\sum_{i=1}^K P(Y=c_i)\\prod_{j=1}^d P(X^j=x^j|Y=c_i)}\n",
    "\\end{eqnarray}\n",
    "$$"
   ]
  },
  {
   "cell_type": "markdown",
   "metadata": {},
   "source": [
    "注意到分母都一样，所以\n",
    "$$\n",
    "y=\\argmax_{c_k}P(Y=c_k)\\prod_{j=1}^d P(X^j=x^j|Y=c_k)\n",
    "$$"
   ]
  },
  {
   "cell_type": "markdown",
   "metadata": {},
   "source": [
    "## 朴素贝叶斯法的参数估计\n",
    "### 极大似然估计\n"
   ]
  },
  {
   "cell_type": "markdown",
   "metadata": {},
   "source": [
    "先验概率的极大似然估计是：\n",
    "$$\n",
    "P(Y=c_k)=\\frac{\\sum_{i=1}^N I(y_i=c_k)}{N}\n",
    "$$"
   ]
  },
  {
   "cell_type": "markdown",
   "metadata": {},
   "source": [
    "设x的属性$x^j$的取值集合为$\\{ a_{j1},a_{j2},\\ldots,a_{jS_{j}} \\}$\n",
    "$$\n",
    "P(X^j=a_{jl}|Y=c_k)=\\frac{\\sum_{i=1}^N I((x_i^j=a_{jl},y=c_k)}{\\sum_{i=1}^N I(y_i=c_k)}\n",
    "$$"
   ]
  },
  {
   "cell_type": "markdown",
   "metadata": {},
   "source": [
    "### 贝叶斯估计\n",
    "极大似然估计中，存在概率为0的情况，通过在各个取值频率中引入一个常数$\\lambda \\ge 0$\n",
    "$$\n",
    "P_{\\lambda}(X^j=a_{jl}|Y=c_k)=\\frac{\\sum_{i=1}^N I((x_i^j=a_{jl},y=c_k)+\\lambda}{\\sum_{i=1}^N I(y_i=c_k)+S_j \\lambda}\n",
    "$$"
   ]
  },
  {
   "cell_type": "markdown",
   "metadata": {},
   "source": [
    "### 朴素贝叶斯算法\n",
    "略"
   ]
  }
 ],
 "metadata": {
  "anaconda-cloud": {},
  "kernelspec": {
   "display_name": "Python [Root]",
   "language": "python",
   "name": "Python [Root]"
  },
  "language_info": {
   "codemirror_mode": {
    "name": "ipython",
    "version": 2
   },
   "file_extension": ".py",
   "mimetype": "text/x-python",
   "name": "python",
   "nbconvert_exporter": "python",
   "pygments_lexer": "ipython2",
   "version": "2.7.11"
  }
 },
 "nbformat": 4,
 "nbformat_minor": 0
}
