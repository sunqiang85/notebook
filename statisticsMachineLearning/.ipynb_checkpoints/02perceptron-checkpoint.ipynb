{
 "cells": [
  {
   "cell_type": "markdown",
   "metadata": {},
   "source": [
    "# 感知机笔记\n",
    "感知机（Perceptron）是二类分类的线性分类模型，其输入为实例的特征向量，输出为实例的类别，取+1和-1二值。感知机1957年由Rosenblatt提出，是神经网络与支持向量机的基础。\n",
    "\n",
    "## 感知机模型\n",
    "定义2.1（感知机）假设输入空间（特征空间）是$x \\in R^n$,输出空间是$\\mathcal{Y}=\\{+1,-1\\}$\n",
    "$$\n",
    "\\begin{equation}\n",
    "f(x)=sign(w\\cdot x+b)\n",
    "\\end{equation}\n",
    "$$\n",
    "$$\n",
    "\\begin{equation}\n",
    "sign(x)=\n",
    "\\begin{cases}\n",
    "+1, & x \\ge 0 \\\\\n",
    "-1, & x \\lt 0\n",
    "\\end{cases}\n",
    "\\end{equation}\n",
    "$$\n",
    "\n",
    "## 感知机学习策略\n",
    "### 数据的线性可分析\n",
    "### 感知机学习策略\n",
    "假设超平面$S$的误分类点集合为M，那么所有误分类点到超平面S的总距离为\n",
    "$$\n",
    "-\\frac{1}{\\Vert w \\Vert}\\sum_{x_i \\in M}y_i(w \\cdot x_i+b)\n",
    "$$\n",
    "感知机$sign(w\\cdot x+b)$的损失函数定义为\n",
    "$$\n",
    "L(w,b)=-\\sum_{x_i \\in M}y_i(w \\cdot x_i+b)\n",
    "$$\n",
    "### 感知器学习算法\n",
    "随机梯度下降法（stochastic gradient descent)\n",
    "输入：训练数据集$T=\\{(x_1,y_1),(x_2,y_2),\\ldots,(x_N,y_N)\\}$，其中$\\mathcal{Y}=\\{-1,+1\\}$,学习率$\\eta(0\\lt \\eta \\le 1)$  \n",
    "输出：$w,b$;感知机模型$f(x)=sign(w\\cdot x+b)$\n",
    "1. 选取初值$w_0,b_0$\n",
    "2. 在训练集中选取数据$(x_i,y_i)$\n",
    "3. 如果$y_i(w\\cdot x_i+b) \\le 0$\n",
    "4. 转至第2步，直到训练集中没有误分类点。\n",
    "$$\n",
    "w \\gets w+\\eta y_i x_i \\\\\n",
    "b \\gets b+\\eta y_i\n",
    "$$\n",
    "\n",
    "直观感觉为什么可行？不妨设$(x_i,y_i)$为误分类点\n",
    "$$\n",
    "\\begin{eqnarray*}\n",
    "y_i(w_{t+1}x_i+b_{t+1}) & = &y_i((w_t+\\eta y_i x_i)x_i+b_t+\\eta y_i) \\\\\n",
    " & = &y_i(w_t+b_t)+\\eta y_i^2 x_i^2+ \\eta y_i^2 \\\\\n",
    " & \\ge & y_i(w_t+b_t)\n",
    "\\end{eqnarray*}\n",
    "$$\n",
    "可见$y_i(w_{t+1}x_i+b_{t+1})$是递增的，最终会大于0，即正确分类。"
   ]
  },
  {
   "cell_type": "markdown",
   "metadata": {},
   "source": [
    "## 实例\n",
    "假设**TargetFunc**就是目标函数$f(x)=sign(w \\cdot x+b)$,其中$w=(-0.8,0.6),b=-10.5$。  \n"
   ]
  },
  {
   "cell_type": "code",
   "execution_count": 18,
   "metadata": {
    "collapsed": false
   },
   "outputs": [],
   "source": [
    "def targetFunc(x):\n",
    "    return -0.8*x[0]+0.6*x[1]-10.5\n",
    "def revFunc(x):\n",
    "    return (0.8*x+10.5)/0.6"
   ]
  },
  {
   "cell_type": "markdown",
   "metadata": {},
   "source": [
    "我们根据目标函数来随机生成一部分训练数据集T，其中$N=100$  "
   ]
  },
  {
   "cell_type": "code",
   "execution_count": 2,
   "metadata": {
    "collapsed": false
   },
   "outputs": [
    {
     "name": "stdout",
     "output_type": "stream",
     "text": [
      "x1: [ 5 52 90 32  3 23  7 23 16 66 66  5  5 23 91  3 65 28 15 29 18 83 17 67 40\n",
      " 15 49 46 85 79 61 24 81 79 40 82 26  9  2  7 61 77 95 77 52 49 43 14 87  8\n",
      " 12 50 29 90 99 50 15 56 91 76 14  7 47 36 32 92 47 93  3  1 34 95 73 47 59\n",
      " 86 39 60 63 80 72 20 82 36 46 77 17 68 80 57 31 50 67 49 79 59 35 48 40 23]\n",
      "x2: [34 70 57 49 80 15 87 29 23 66 78 76 17 60 54 56 71 87 41 38 83 54 81 19  6\n",
      " 16 96 52  7 55 21 85  7 38 28  8 28 34 93 61 96 96 47  9 87  2 74 30 53 43\n",
      " 90 26 47  7 35 84 80 40 88 89 68 35 96 74 91 30 98 27 55 10 67 94 31 15 27\n",
      " 51 64 29 15 64 16 94 56 60 19 87 95 17 78 40 42 21 51 73 32 32 33 37 99 27]\n",
      "y: [  5.9 -10.1 -48.3  -6.7  35.1 -19.9  36.1 -11.5  -9.5 -23.7 -16.5  31.1\n",
      "  -4.3   7.1 -50.9  20.7 -19.9  19.3   2.1 -10.9  24.9 -44.5  24.5 -52.7\n",
      " -38.9 -12.9   7.9 -16.1 -74.3 -40.7 -46.7  21.3 -71.1 -50.9 -25.7 -71.3\n",
      " -14.5   2.7  43.7  20.5  -1.7 -14.5 -58.3 -66.7   0.1 -48.5  -0.5  -3.7\n",
      " -48.3   8.9  33.9 -34.9  -5.5 -78.3 -68.7  -0.1  25.5 -31.3 -30.5 -17.9\n",
      "  19.1   4.9   9.5   5.1  18.5 -66.1  10.7 -68.7  20.1  -5.3   2.5 -30.1\n",
      " -50.3 -39.1 -41.5 -48.7  -3.3 -41.1 -51.9 -36.1 -58.5  29.9 -42.5  -3.3\n",
      " -35.9 -19.9  32.9 -54.7 -27.7 -32.1 -10.1 -37.9 -33.5  -5.9 -54.5 -38.5\n",
      " -18.7 -26.7  16.9 -12.7]\n",
      "color: ['b' 'r' 'r' 'r' 'b' 'r' 'b' 'r' 'r' 'r' 'r' 'b' 'r' 'b' 'r' 'b' 'r' 'b'\n",
      " 'b' 'r' 'b' 'r' 'b' 'r' 'r' 'r' 'b' 'r' 'r' 'r' 'r' 'b' 'r' 'r' 'r' 'r'\n",
      " 'r' 'b' 'b' 'b' 'r' 'r' 'r' 'r' 'b' 'r' 'r' 'r' 'r' 'b' 'b' 'r' 'r' 'r'\n",
      " 'r' 'r' 'b' 'r' 'r' 'r' 'b' 'b' 'b' 'b' 'b' 'r' 'b' 'r' 'b' 'r' 'b' 'r'\n",
      " 'r' 'r' 'r' 'r' 'r' 'r' 'r' 'r' 'r' 'b' 'r' 'r' 'r' 'r' 'b' 'r' 'r' 'r'\n",
      " 'r' 'r' 'r' 'r' 'r' 'r' 'r' 'r' 'b' 'r']\n"
     ]
    }
   ],
   "source": [
    "import numpy as np\n",
    "x1=np.random.randint(0,100,size=100)\n",
    "x2=np.random.randint(0,100,size=100)\n",
    "y=np.array([targetFunc((a,b)) for a,b in zip(x1,x2)])\n",
    "c=np.where(y>0,'b','r')\n",
    "print 'x1:',x1\n",
    "print 'x2:',x2\n",
    "print 'y:', y\n",
    "print 'color:',c"
   ]
  },
  {
   "cell_type": "markdown",
   "metadata": {},
   "source": [
    "通过matplotlib利用图像展示数据和目标函数"
   ]
  },
  {
   "cell_type": "code",
   "execution_count": 3,
   "metadata": {
    "collapsed": false,
    "scrolled": true
   },
   "outputs": [
    {
     "data": {
      "image/png": "[encoded data removed]",
      "text/plain": [
       "<matplotlib.figure.Figure at 0x5779e10>"
      ]
     },
     "metadata": {},
     "output_type": "display_data"
    }
   ],
   "source": [
    "%matplotlib inline\n",
    "import matplotlib.pyplot as plt\n",
    "#import seaborn\n",
    "#seaborn.set()\n",
    "\n",
    "plt.scatter(x1[y>0],x2[y>0],c=c[y>0],marker='o')\n",
    "plt.scatter(x1[y<0],x2[y<0],c=c[y<0],marker='x')\n",
    "plt.plot([0,100],[revFunc(0),revFunc(100)],'g-')\n",
    "plt.xlabel('$X_1$')\n",
    "plt.ylabel('$X_2$')\n",
    "plt.xlim(0,100)\n",
    "#plt.ylim(-10,100)\n",
    "plt.show()"
   ]
  },
  {
   "cell_type": "code",
   "execution_count": 4,
   "metadata": {
    "collapsed": false
   },
   "outputs": [],
   "source": [
    "n=x1.shape[0]\n",
    "X=np.zeros((n,2))\n",
    "X[:,0]=x1\n",
    "X[:,1]=x2\n",
    "Y=np.where(y>0,1,-1)\n"
   ]
  },
  {
   "cell_type": "markdown",
   "metadata": {
    "collapsed": false,
    "scrolled": true
   },
   "source": [
    "## 利用scikit-learn进行求解"
   ]
  },
  {
   "cell_type": "code",
   "execution_count": 5,
   "metadata": {
    "collapsed": false
   },
   "outputs": [
    {
     "name": "stdout",
     "output_type": "stream",
     "text": [
      "[-0.8  0.6]\n",
      "-10.5\n"
     ]
    }
   ],
   "source": [
    "from sklearn import linear_model\n",
    "clf = linear_model.LinearRegression()\n",
    "clf.fit(X,y)\n",
    "print clf.coef_\n",
    "print clf.intercept_"
   ]
  },
  {
   "cell_type": "markdown",
   "metadata": {},
   "source": [
    "## 通过自己编程实现"
   ]
  },
  {
   "cell_type": "code",
   "execution_count": 19,
   "metadata": {
    "collapsed": true
   },
   "outputs": [],
   "source": [
    "def gradientDescent(x,y,eta):\n",
    "    limitCount=100000000\n",
    "    n=x.shape[0]\n",
    "    d=x.shape[1]\n",
    "    count=0\n",
    "    success=0\n",
    "    w=np.zeros(d)\n",
    "    w=w.astype(float)\n",
    "    b=0.0\n",
    "    while True:\n",
    "        i=count % n\n",
    "        row=x[i]\n",
    "        res=np.dot(w,row)+b\n",
    "        if res*y[i] <=0:\n",
    "            w=w+eta*y[i]*row\n",
    "            b=b+eta*y[i]\n",
    "            success=0\n",
    "        count=count+1\n",
    "        success=success+1\n",
    "        if success>=n:\n",
    "            L2=np.sqrt(np.sum(w*w))\n",
    "            return (w/L2,b/L2,count)\n",
    "        if count>=limitCount: \n",
    "            L2=np.sqrt(np.sum(w*w))\n",
    "            return (w/L2,b/L2,count)\n",
    "  "
   ]
  },
  {
   "cell_type": "markdown",
   "metadata": {},
   "source": [
    "利用随机梯度下降算法求解"
   ]
  },
  {
   "cell_type": "code",
   "execution_count": 7,
   "metadata": {
    "collapsed": false
   },
   "outputs": [
    {
     "name": "stdout",
     "output_type": "stream",
     "text": [
      "[-0.82870941  0.55967911]\n",
      "-5.59679111293\n",
      "372246\n"
     ]
    }
   ],
   "source": [
    "w,b,count=gradientDescent(X,Y,2)\n",
    "print w\n",
    "print b\n",
    "print count"
   ]
  },
  {
   "cell_type": "markdown",
   "metadata": {},
   "source": [
    "## 展示算法结果"
   ]
  },
  {
   "cell_type": "code",
   "execution_count": 8,
   "metadata": {
    "collapsed": false
   },
   "outputs": [
    {
     "data": {
      "image/png": "[encoded data removed]",
      "text/plain": [
       "<matplotlib.figure.Figure at 0x7009d50>"
      ]
     },
     "metadata": {},
     "output_type": "display_data"
    }
   ],
   "source": [
    "%matplotlib inline\n",
    "import matplotlib.pyplot as plt\n",
    "#import seaborn\n",
    "#seaborn.set()\n",
    "\n",
    "plt.scatter(x1[y>0],x2[y>0],c=c[y>0],marker='o')\n",
    "plt.scatter(x1[y<0],x2[y<0],c=c[y<0],marker='x')\n",
    "yL=(-w[0]*0-b)/w[1]\n",
    "yR=(-w[0]*100-b)/w[1]\n",
    "plt.plot([0,100],[yL,yR],'g-')\n",
    "plt.xlabel('$X_1$')\n",
    "plt.ylabel('$X_2$')\n",
    "plt.xlim(0,100)\n",
    "#plt.ylim(-10,100)\n",
    "plt.show()"
   ]
  },
  {
   "cell_type": "markdown",
   "metadata": {},
   "source": [
    "## 比较$\\eta$参数对于求解效率的影响"
   ]
  },
  {
   "cell_type": "code",
   "execution_count": 21,
   "metadata": {
    "collapsed": false
   },
   "outputs": [],
   "source": [
    "etas=np.arange(0.1,2.0,0.1)\n",
    "counts=np.zeros(len(etas))\n",
    "for i in range(len(etas)):\n",
    "    w,b,counts[i]=gradientDescent(X,Y,etas[i])"
   ]
  },
  {
   "cell_type": "code",
   "execution_count": 22,
   "metadata": {
    "collapsed": false
   },
   "outputs": [
    {
     "data": {
      "image/png": "[encoded data removed]",
      "text/plain": [
       "<matplotlib.figure.Figure at 0x8bc83f0>"
      ]
     },
     "metadata": {},
     "output_type": "display_data"
    }
   ],
   "source": [
    "plt.plot(etas,counts,'k--')\n",
    "plt.plot(etas,counts,'bo')\n",
    "plt.xticks(np.arange(0,2,0.1))\n",
    "plt.grid(True)\n",
    "plt.show()"
   ]
  },
  {
   "cell_type": "markdown",
   "metadata": {},
   "source": [
    "## 严格的数学证明\n",
    "1. 存在满足条件$\\left\\| \\hat{w}_{opt} \\right\\|=1$的超平面$\\hat{w}_{opt} \\cdot \\hat{x}=0$将训练数据集完全正确的分开；且存在$\\gamma>0$,对于所有的$i=1,2,\\ldots,N$\n",
    "$$\n",
    "y_i(\\hat{w}_{opt} \\cdot \\hat{x}_i) \\ge \\gamma\n",
    "$$\n",
    "2. 令$R=\\max \\limits_{1 \\le i \\le N}\\left \\| x_i \\right \\|$，则感知器学习算法在训练数据集上的误分类次数k满足不等式\n",
    "$$\n",
    "k \\le \\left( \\frac{R}{\\gamma} \\right)^2\n",
    "$$"
   ]
  },
  {
   "cell_type": "markdown",
   "metadata": {},
   "source": [
    "感知器学习算法从$\\hat{w}_0=0$开始\n",
    "$$\n",
    "\\begin{eqnarray*}\n",
    "w_k &=&w_{k-1}+\\eta y_i x_i \\\\\n",
    "w_k \\cdot w_{opt} &=& w_{k-1} \\cdot w_{opt} + \\eta y_i w_{opt} \\cdot x_i \\\\\n",
    "& \\ge & w_{k-1} \\cdot w_{opt} +\\eta \\gamma\n",
    "\\end{eqnarray*}\n",
    "$$\n",
    "\n",
    "由此递推出\n",
    "$$\n",
    "\\begin{eqnarray}\n",
    "w_k \\cdot w_{opt} \\ge k \\eta \\gamma\n",
    "\\end{eqnarray}\n",
    "$$\n"
   ]
  },
  {
   "cell_type": "markdown",
   "metadata": {},
   "source": [
    "发生第k个误分类实例的条件是\n",
    "$$\n",
    "y_i(w_{k-1} \\cdot x_i) \\le 0\n",
    "$$\n",
    "则\n",
    "$$\n",
    "\\begin{eqnarray*}\n",
    "\\left \\| w_k \\right \\|^2 &=&{\\left \\| w_{k-1} \\right \\|}^2 + 2*\\eta y_i w_{k-1} \\cdot x_i + {\\eta}^2\\left \\| x_i \\right \\|^2\\\\\n",
    "& \\le & {\\left \\| w_{k-1} \\right \\|}^2 +{\\eta}^2\\left \\| x_i \\right \\|^2\\\\\n",
    "& \\le & {\\left \\| w_{k-1} \\right \\|}^2 +{\\eta}^2R^2\\\\\n",
    "\\left \\| w_k \\right \\|^2 & \\le & k {\\eta}^2R^2\n",
    "\\end{eqnarray*}\n",
    "$$"
   ]
  },
  {
   "cell_type": "markdown",
   "metadata": {},
   "source": [
    "结合上面两个结果\n",
    "$$\n",
    "k \\eta \\gamma \\le w_k \\cdot w_{opt} \\le \\sqrt{k}\\eta R\n",
    "$$"
   ]
  },
  {
   "cell_type": "markdown",
   "metadata": {},
   "source": [
    "于是\n",
    "$$\n",
    "k \\le \\left( \\frac{R}{\\gamma} \\right) ^2\n",
    "$$"
   ]
  },
  {
   "cell_type": "code",
   "execution_count": null,
   "metadata": {
    "collapsed": true
   },
   "outputs": [],
   "source": []
  }
 ],
 "metadata": {
  "kernelspec": {
   "display_name": "Python [Root]",
   "language": "python",
   "name": "Python [Root]"
  },
  "language_info": {
   "codemirror_mode": {
    "name": "ipython",
    "version": 2
   },
   "file_extension": ".py",
   "mimetype": "text/x-python",
   "name": "python",
   "nbconvert_exporter": "python",
   "pygments_lexer": "ipython2",
   "version": "2.7.11"
  }
 },
 "nbformat": 4,
 "nbformat_minor": 0
}
