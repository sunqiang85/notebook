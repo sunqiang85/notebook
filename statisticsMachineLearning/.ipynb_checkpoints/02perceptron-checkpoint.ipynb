{
 "cells": [
  {
   "cell_type": "markdown",
   "metadata": {},
   "source": [
    "# 感知器笔记\n",
    "## 感知机模型\n",
    "定义2.1（感知机）假设输入空间（特征空间）是$x \\in R^n$,输出空间是$\\mathcal{Y}=\\{+1,-1\\}$\n",
    "$$\n",
    "\\begin{equation}\n",
    "f(x)=sign(w\\cdot x+b)\n",
    "\\end{equation}\n",
    "$$\n",
    "$$\n",
    "\\begin{equation}\n",
    "sign(x)=\n",
    "\\begin{cases}\n",
    "+1, & x \\ge 0 \\\\\n",
    "-1, & x \\lt 0\n",
    "\\end{cases}\n",
    "\\end{equation}\n",
    "$$\n",
    "\n",
    "## 感知机学习策略\n",
    "### 数据的线性可分析\n",
    "### 感知机学习策略\n",
    "假设超平面$S$的误分类点集合为M，那么所有误分类点到超平面S的总距离为\n",
    "$$\n",
    "-\\frac{1}{\\Vert w \\Vert}\\sum_{x_i \\in M}y_i(w \\cdot x_i+b)\n",
    "$$\n",
    "感知机$sign(w\\cdot x+b)$的损失函数定义为\n",
    "$$\n",
    "L(w,b)=-\\sum_{x_i \\in M}y_i(w \\cdot x_i+b)\n",
    "$$\n",
    "### 感知器学习算法\n",
    "随机梯度下降法（stochastic gradient descent)\n",
    "输入：训练数据集$T=\\{(x_1,y_1),(x_2,y_2),\\ldots,(x_N,y_N)\\}$，其中$\\mathcal{Y}=\\{-1,+1\\}$,学习率$\\eta(0\\lt \\eta \\le 1)$  \n",
    "输出：$w,b$;感知机模型$f(x)=sign(w\\cdot x+b)$\n",
    "1. 选取初值$w_0,b_0$\n",
    "2. 在训练集中选取数据$(x_i,y_i)$\n",
    "3. 如果$y_i(w\\cdot x_i+b) \\le 0$\n",
    "4. 转至第2步，直到训练集中没有误分类点。\n",
    "$$\n",
    "w \\gets w+\\eta y_i x_i \\\\\n",
    "b \\gets b+\\eta y_i\n",
    "$$\n",
    "\n",
    "直观感觉为什么可行？不妨设$(x_i,y_i)$为误分类点\n",
    "$$\n",
    "\\begin{eqnarray*}\n",
    "y_i(w_{t+1}x_i+b_{t+1}) & = &y_i((w_t+\\eta y_i x_i)x_i+b_t+\\eta y_i) \\\\\n",
    " & = &y_i(w_t+b_t)+\\eta y_i^2 x_i^2+ \\eta y_i^2 \\\\\n",
    " & \\ge & y_i(w_t+b_t)\n",
    "\\end{eqnarray*}\n",
    "$$\n",
    "可见$y_i(w_{t+1}x_i+b_{t+1})$是递增的，最终会大于0，即正确分类。"
   ]
  },
  {
   "cell_type": "code",
   "execution_count": 13,
   "metadata": {
    "collapsed": false
   },
   "outputs": [
    {
     "name": "stdout",
     "output_type": "stream",
     "text": [
      "81.5\n"
     ]
    }
   ],
   "source": [
    "def targetFunc(x):\n",
    "    return -2*x[0]+x[1]+80.5\n",
    "a=[1,3]\n",
    "print targetFunc(a)"
   ]
  },
  {
   "cell_type": "code",
   "execution_count": 15,
   "metadata": {
    "collapsed": false
   },
   "outputs": [
    {
     "name": "stdout",
     "output_type": "stream",
     "text": [
      "[[58, 64], [90, 7], [9, 24], [32, 47], [7, 77], [78, 82], [40, 87], [11, 35], [54, 2], [23, 9], [57, 0], [66, 54], [28, 42], [29, 4], [35, 63], [3, 62], [2, 49], [87, 93], [62, 64], [47, 78]]\n",
      "[1, -1, 1, 1, 1, 1, 1, 1, -1, 1, -1, 1, 1, 1, 1, 1, 1, -1, 1, 1]\n"
     ]
    }
   ],
   "source": [
    "import random\n",
    "X1=[]\n",
    "X2=[]\n",
    "Y=[]\n",
    "for i in range(20):\n",
    "    x1=random.randint(0,100)\n",
    "    x2=random.randint(0,100)\n",
    "    y=targetFunc([x0,x1])\n",
    "    if y >0 :\n",
    "        X1.append(x1)\n",
    "        X2.append(x2)\n",
    "        Y.append(1)\n",
    "    elif y<0:\n",
    "        X1.append(x1)\n",
    "        X2.append(x2)\n",
    "        Y.append(-1)\n",
    "print X1\n",
    "print X2\n",
    "print Y\n",
    "    "
   ]
  },
  {
   "cell_type": "code",
   "execution_count": 16,
   "metadata": {
    "collapsed": true
   },
   "outputs": [],
   "source": [
    "import matplotlib.pyplot as plt"
   ]
  },
  {
   "cell_type": "code",
   "execution_count": null,
   "metadata": {
    "collapsed": true
   },
   "outputs": [],
   "source": [
    "plt.figure(1)"
   ]
  },
  {
   "cell_type": "code",
   "execution_count": null,
   "metadata": {
    "collapsed": true
   },
   "outputs": [],
   "source": [
    "plt.s"
   ]
  },
  {
   "cell_type": "code",
   "execution_count": 5,
   "metadata": {
    "collapsed": false
   },
   "outputs": [
    {
     "ename": "NameError",
     "evalue": "name 'random' is not defined",
     "output_type": "error",
     "traceback": [
      "\u001b[1;31m---------------------------------------------------------------------------\u001b[0m",
      "\u001b[1;31mNameError\u001b[0m                                 Traceback (most recent call last)",
      "\u001b[1;32m<ipython-input-5-ec44c98cc138>\u001b[0m in \u001b[0;36m<module>\u001b[1;34m()\u001b[0m\n\u001b[1;32m----> 1\u001b[1;33m \u001b[1;32mprint\u001b[0m \u001b[0mrandom\u001b[0m\u001b[1;33m(\u001b[0m\u001b[1;36m3\u001b[0m\u001b[1;33m)\u001b[0m\u001b[1;33m\u001b[0m\u001b[0m\n\u001b[0m",
      "\u001b[1;31mNameError\u001b[0m: name 'random' is not defined"
     ]
    }
   ],
   "source": [
    "print random(3)"
   ]
  },
  {
   "cell_type": "code",
   "execution_count": null,
   "metadata": {
    "collapsed": true
   },
   "outputs": [],
   "source": []
  }
 ],
 "metadata": {
  "kernelspec": {
   "display_name": "Python [Root]",
   "language": "python",
   "name": "Python [Root]"
  },
  "language_info": {
   "codemirror_mode": {
    "name": "ipython",
    "version": 2
   },
   "file_extension": ".py",
   "mimetype": "text/x-python",
   "name": "python",
   "nbconvert_exporter": "python",
   "pygments_lexer": "ipython2",
   "version": "2.7.11"
  }
 },
 "nbformat": 4,
 "nbformat_minor": 0
}
