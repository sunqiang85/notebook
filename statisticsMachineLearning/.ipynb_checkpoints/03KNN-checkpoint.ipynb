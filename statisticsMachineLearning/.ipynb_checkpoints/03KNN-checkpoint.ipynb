{
 "cells": [
  {
   "cell_type": "markdown",
   "metadata": {},
   "source": [
    "# K近邻法\n",
    "K近邻法（k-nearest neighbor, k-NN）是一种基本分类与回归方法。K近邻算法1968年由Cover和Hart提出。\n",
    "\n",
    "## K近邻算法\n",
    "输入：训练数据集\n",
    "$$\n",
    "T=\\{ (x_1,y_1),(x_2,y_2), \\ldots (x_N,y_N)\\}\n",
    "$$\n",
    "输出：x所属的类y。\n",
    "1. 根据给定的距离度量，在训练集T中找出与x最邻近的k个点，涵盖这k个点的邻域记作$N_k(x)$\n",
    "2. 在$N_k(x)$中根据决策分类（多数表决）来决定x的类别y：\n",
    "$$\n",
    "\\DeclareMathOperator*{\\argmax}{arg\\,max}\n",
    "y=\\argmax_{c_j} \\sum_{x_i \\in N_k(x)} I(y_i=c_j)\\\\ \n",
    "$$\n",
    "其中$i=1,2,3,\\ldots,N, k=1,2,3,\\ldots,K$"
   ]
  },
  {
   "cell_type": "markdown",
   "metadata": {},
   "source": [
    "## K近邻模型\n",
    "K近邻模型有三要素：距离度量，k值的选择和分类决策规则决定。\n"
   ]
  },
  {
   "cell_type": "markdown",
   "metadata": {},
   "source": [
    "### 距离度量\n",
    "$L_p$距离或Minkowski距离定义：\n",
    "设特征空间x是n维空间向量空间$R^n$\n",
    "$$\n",
    "x_i,x_j \\in \\mathcal{X}\n",
    "$$\n"
   ]
  },
  {
   "cell_type": "code",
   "execution_count": null,
   "metadata": {
    "collapsed": true
   },
   "outputs": [],
   "source": []
  }
 ],
 "metadata": {
  "kernelspec": {
   "display_name": "Python [Root]",
   "language": "python",
   "name": "Python [Root]"
  },
  "language_info": {
   "codemirror_mode": {
    "name": "ipython",
    "version": 2
   },
   "file_extension": ".py",
   "mimetype": "text/x-python",
   "name": "python",
   "nbconvert_exporter": "python",
   "pygments_lexer": "ipython2",
   "version": "2.7.11"
  }
 },
 "nbformat": 4,
 "nbformat_minor": 0
}
