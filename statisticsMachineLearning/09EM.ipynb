{
 "cells": [
  {
   "cell_type": "markdown",
   "metadata": {},
   "source": [
    "# EM算法及其推广\n",
    "EM算法是一种迭代算法，1977年由Dempster等人总结提出，用于含有隐含变量（hidden variable）的概率模型参数的极大似然估计，或极大后验概率估计。EM算法的每次迭代有两步组成：\n",
    "- E步，求期望（expectation）\n",
    "- M步，求极大（maximization）"
   ]
  },
  {
   "cell_type": "markdown",
   "metadata": {},
   "source": [
    "如果概率模型的变量都是观测变量，那么给定数据，可以直接用极大似然估计法，或贝叶斯估计法估计模型参数。当有隐含变量或潜在变量（latent variable）时，就需要采用EM算法。"
   ]
  },
  {
   "cell_type": "markdown",
   "metadata": {},
   "source": [
    "EM算法的参数估计，受EM算法初值选择的影响会产生不同"
   ]
  },
  {
   "cell_type": "markdown",
   "metadata": {},
   "source": [
    "## EM算法\n",
    "输入：观测变量Y，隐含变量Z，联合分布$P(Y,Z|\\theta)$,条件分布$P(Z|Y,\\theta)$  \n",
    "输出：模型参数$\\theta$"
   ]
  },
  {
   "cell_type": "markdown",
   "metadata": {},
   "source": [
    "1. 选择参数的初值$\\theta^0$，开始迭代；\n",
    "2. E步：记$\\theta_i$为第i次迭代参数$\\theta$的估计值，在第i+1次迭代的E步，计算\n",
    "$$\n",
    "\\begin{eqnarray}\n",
    "Q(\\theta,\\theta^i) &=& E_Z[\\log{P(Y,Z|\\theta)}|Y,\\theta^i] \\\\\n",
    "&=& \\sum_Z \\log{P(Y,Z|\\theta)}P(Z|Y,\\theta^i)\n",
    "\\end{eqnarray}\n",
    "$$\n",
    "3. M步：求使$Q(\\theta,\\theta^i)$极大化的$\\theta$，确定第i+1次迭代参数的估计值$\\theta^i$\n",
    "$$\n",
    "\\theta^{i+1}=\\arg \\max_{\\theta}Q(\\theta,\\theta^i)\n",
    "$$\n",
    "4. 重复第2和3步，直到收敛"
   ]
  },
  {
   "cell_type": "markdown",
   "metadata": {},
   "source": [
    "## Q函数\n",
    "完全数据的对数似然函数$\\log{P(Y,Z|\\theta)}$关于给定观测数据Y和当前参数$\\theta^i$下对未观测数据Z的条件概率分布$P(Z|Y,\\theta^i)$的期望称为Q函数，即\n",
    "$$\n",
    "Q(\\theta,\\theta^i)=E_Z[\\log{P(Y,Z|\\theta)}|Y,\\theta^i]\n",
    "$$"
   ]
  },
  {
   "cell_type": "markdown",
   "metadata": {},
   "source": [
    "1. 参数的初值可以任意选择，但需注意EM算法对初值是敏感的。\n",
    "2. E步求Q(\\theta,\\theta^i)。Q函数式中Z是未观测数据，Y是观测数据。\n",
    "3. M步求Q(\\theta,\\theta^i)的极大化，得到$Q^{i+1}$,完成一次迭代$\\theta^i \\rightarrow \\theta^{i+1}$\n",
    "4. 给出停止迭代的条件，一般是对较小的正数$\\epsilon_1,\\epsilon_2$，若满足$||\\theta^{i+1}-\\theta^i|| \\lt \\epsilon_1$或$||Q(\\theta^{i+1},\\theta^i)-Q(\\theta^i,\\theta^i)|| \\lt \\epsilon_2$，则停止迭代"
   ]
  },
  {
   "cell_type": "markdown",
   "metadata": {},
   "source": [
    "## EM算法的推导\n",
    "目标是极大化似然函数\n",
    "$$\n",
    "\\begin{eqnarray}\n",
    "L(\\theta)&=&\\log{P(Y|\\theta)} \\\\\n",
    "&=& \\log{\\sum_Z}P(Y,Z|\\theta) \\\\\n",
    "&=& \\log{\\left(\\sum_Z{P(Y|Z,\\theta)P(Z|\\theta)}\\right)}\n",
    "\\end{eqnarray}\n",
    "$$"
   ]
  },
  {
   "cell_type": "markdown",
   "metadata": {},
   "source": [
    "$$\n",
    "\\begin{eqnarray}\n",
    "L(\\theta)-L(\\theta_i) &=& \\log{\\left(\\sum_Z{P(Y|Z,\\theta)P(Z|\\theta)}\\right)}-\\log{P(Y|\\theta^i)} \\\\\n",
    "&=& \\log{\\left( \\sum_Z{P(Z|Y,\\theta^i)\\frac{P(Y|Z,\\theta^i)P(Z|\\theta)}{P(Y|Z,\\theta^i)}}\\right)}-\\log{P(Y|\\theta^i)} \\\\\n",
    "&\\ge& \\sum_Z{P(Z|Y,\\theta^i)\\log{\\frac{P(Y|Z,\\theta)P(Z|\\theta)}{P(Z|Y,\\theta^i)}}}-\\log{P(Y|\\theta^i)} \\\\\n",
    "&=& \\sum_Z{P(Z|Y,\\theta^i)\\log{\\frac{P(Y|Z,\\theta)P(Z|\\theta)}{P(Z|Y,\\theta^i)P(Y|\\theta^i)}}}\n",
    "\\end{eqnarray}\n",
    "$$\n",
    "其中利用了Jensen不等式"
   ]
  },
  {
   "cell_type": "markdown",
   "metadata": {},
   "source": [
    "令\n",
    "$$\n",
    "B(\\theta,\\theta^i)=L(\\theta^i)+\\sum_Z{P(Z|Y,\\theta^i)\\log{\\frac{P(Y|Z,\\theta)P(Z|\\theta)}{P(Z|Y,\\theta^i)P(Y|\\theta^i)}}}\n",
    "$$"
   ]
  },
  {
   "cell_type": "markdown",
   "metadata": {},
   "source": [
    "显然这是一个下界，问题可以转化为\n",
    "$$\n",
    "\\theta^{i+1}=\\arg \\max_\\theta B(\\theta,\\theta^i)\n",
    "$$"
   ]
  },
  {
   "cell_type": "markdown",
   "metadata": {},
   "source": [
    "$$\n",
    "\\begin{eqnarray}\n",
    "\\theta^{i+1} &=& \\arg \\max_{\\theta} \\left( L(\\theta^i)+\\sum_Z{P(Z|Y,\\theta^i)\\log{\\frac{P(Y|Z,\\theta)P(Z|\\theta)}{P(Z|Y,\\theta^i)P(Y|\\theta^i)}}} \\right) \\\\\n",
    "&=& \\arg \\max_{\\theta} \\left( \\sum_Z P(Z|Y,\\theta^i)\\log{P(Y|Z,\\theta)P(Z|\\theta)}\\right) \\\\\n",
    "&=& \\arg \\max_{\\theta} \\left( \\sum_Z P(Z|Y,\\theta^i)\\log{P(Y,Z|\\theta)}\\right) \\\\\n",
    "&=& \\arg \\max_{\\theta} Q(\\theta,\\theta^i)\n",
    "\\end{eqnarray}\n",
    "$$"
   ]
  },
  {
   "cell_type": "markdown",
   "metadata": {
    "collapsed": true
   },
   "source": [
    "## EM算法的收敛性\n"
   ]
  },
  {
   "cell_type": "markdown",
   "metadata": {
    "collapsed": true
   },
   "source": [
    "设$P(Y|\\theta)$为观测数据的似然函数，$\\theta^i$为EM算法得到的参数估计序列，$P(Y|\\theta^i)$为对应的似然函数序列，则$P(Y|\\theta^i)$是单调递增的。"
   ]
  },
  {
   "cell_type": "code",
   "execution_count": null,
   "metadata": {
    "collapsed": true
   },
   "outputs": [],
   "source": []
  }
 ],
 "metadata": {
  "kernelspec": {
   "display_name": "Python [Root]",
   "language": "python",
   "name": "Python [Root]"
  },
  "language_info": {
   "codemirror_mode": {
    "name": "ipython",
    "version": 2
   },
   "file_extension": ".py",
   "mimetype": "text/x-python",
   "name": "python",
   "nbconvert_exporter": "python",
   "pygments_lexer": "ipython2",
   "version": "2.7.12"
  }
 },
 "nbformat": 4,
 "nbformat_minor": 0
}
