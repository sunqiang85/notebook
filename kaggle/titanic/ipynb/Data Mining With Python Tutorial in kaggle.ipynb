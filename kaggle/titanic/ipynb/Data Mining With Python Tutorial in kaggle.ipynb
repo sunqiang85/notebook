{
 "cells": [
  {
   "cell_type": "markdown",
   "metadata": {},
   "source": [
    "# 数据挖掘实战入门\n",
    "## 环境选择\n",
    "### 编程环境\n",
    "Python:\n",
    "- Numpy：数据类型支持\n",
    "- Pandas：数据处理\n",
    "- Sklearn：机器学习算法库\n",
    "- Matplotlib：图形化化展示\n",
    "- Seaborn：对MatPlotlib进行进一步封装\n",
    "\n",
    "### 数据集\n",
    "平台：Kaggle\n",
    "\n",
    "\n",
    "## workflow\n",
    "1. Data visualization：通过数据可视化，对数据进行概览，激发的数据的感觉\n",
    "2. Feature Processing：对特征属性进行加工\n",
    "    1. 缺失值处理\n",
    "        1. 缺失严重，丢弃该属性\n",
    "        2. 缺失中等，将缺失值作为学习目标，重新生成补全\n",
    "        3. 缺失中等，将缺失值作为一个新值\n",
    "    2. 离散连续值转换处理（根据算法需要）\n",
    "    3. 多值枚举值转二元枚举值\n",
    "3. Algorithm Selection\n",
    "    1. 算法类型选择\n",
    "4. Optimization\n",
    "    1. 欠拟合与过拟合分析\n",
    "    2. 参数调整\n",
    "    3. 考虑ensemble"
   ]
  },
  {
   "cell_type": "code",
   "execution_count": 162,
   "metadata": {
    "collapsed": true
   },
   "outputs": [],
   "source": [
    "# Imports\n",
    "\n",
    "# pandas\n",
    "import pandas as pd\n",
    "from pandas import Series,DataFrame\n",
    "\n",
    "# numpy, matplotlib, seaborn\n",
    "import numpy as np\n",
    "import matplotlib.pyplot as plt\n",
    "import seaborn as sns\n",
    "sns.set_style('whitegrid')\n",
    "%matplotlib inline\n",
    "\n",
    "# machine learning\n",
    "from sklearn.linear_model import LogisticRegression\n",
    "from sklearn.svm import SVC, LinearSVC\n",
    "from sklearn.ensemble import RandomForestClassifier\n",
    "from sklearn.neighbors import KNeighborsClassifier\n",
    "from sklearn.naive_bayes import GaussianNB"
   ]
  },
  {
   "cell_type": "code",
   "execution_count": 51,
   "metadata": {
    "collapsed": false
   },
   "outputs": [
    {
     "data": {
      "text/html": [
       "<div>\n",
       "<table border=\"1\" class=\"dataframe\">\n",
       "  <thead>\n",
       "    <tr style=\"text-align: right;\">\n",
       "      <th></th>\n",
       "      <th>PassengerId</th>\n",
       "      <th>Survived</th>\n",
       "      <th>Pclass</th>\n",
       "      <th>Name</th>\n",
       "      <th>Sex</th>\n",
       "      <th>Age</th>\n",
       "      <th>SibSp</th>\n",
       "      <th>Parch</th>\n",
       "      <th>Ticket</th>\n",
       "      <th>Fare</th>\n",
       "      <th>Cabin</th>\n",
       "      <th>Embarked</th>\n",
       "    </tr>\n",
       "  </thead>\n",
       "  <tbody>\n",
       "    <tr>\n",
       "      <th>0</th>\n",
       "      <td>1</td>\n",
       "      <td>0</td>\n",
       "      <td>3</td>\n",
       "      <td>Braund, Mr. Owen Harris</td>\n",
       "      <td>male</td>\n",
       "      <td>22.0</td>\n",
       "      <td>1</td>\n",
       "      <td>0</td>\n",
       "      <td>A/5 21171</td>\n",
       "      <td>7.2500</td>\n",
       "      <td>NaN</td>\n",
       "      <td>S</td>\n",
       "    </tr>\n",
       "    <tr>\n",
       "      <th>1</th>\n",
       "      <td>2</td>\n",
       "      <td>1</td>\n",
       "      <td>1</td>\n",
       "      <td>Cumings, Mrs. John Bradley (Florence Briggs Th...</td>\n",
       "      <td>female</td>\n",
       "      <td>38.0</td>\n",
       "      <td>1</td>\n",
       "      <td>0</td>\n",
       "      <td>PC 17599</td>\n",
       "      <td>71.2833</td>\n",
       "      <td>C85</td>\n",
       "      <td>C</td>\n",
       "    </tr>\n",
       "    <tr>\n",
       "      <th>2</th>\n",
       "      <td>3</td>\n",
       "      <td>1</td>\n",
       "      <td>3</td>\n",
       "      <td>Heikkinen, Miss. Laina</td>\n",
       "      <td>female</td>\n",
       "      <td>26.0</td>\n",
       "      <td>0</td>\n",
       "      <td>0</td>\n",
       "      <td>STON/O2. 3101282</td>\n",
       "      <td>7.9250</td>\n",
       "      <td>NaN</td>\n",
       "      <td>S</td>\n",
       "    </tr>\n",
       "    <tr>\n",
       "      <th>3</th>\n",
       "      <td>4</td>\n",
       "      <td>1</td>\n",
       "      <td>1</td>\n",
       "      <td>Futrelle, Mrs. Jacques Heath (Lily May Peel)</td>\n",
       "      <td>female</td>\n",
       "      <td>35.0</td>\n",
       "      <td>1</td>\n",
       "      <td>0</td>\n",
       "      <td>113803</td>\n",
       "      <td>53.1000</td>\n",
       "      <td>C123</td>\n",
       "      <td>S</td>\n",
       "    </tr>\n",
       "    <tr>\n",
       "      <th>4</th>\n",
       "      <td>5</td>\n",
       "      <td>0</td>\n",
       "      <td>3</td>\n",
       "      <td>Allen, Mr. William Henry</td>\n",
       "      <td>male</td>\n",
       "      <td>35.0</td>\n",
       "      <td>0</td>\n",
       "      <td>0</td>\n",
       "      <td>373450</td>\n",
       "      <td>8.0500</td>\n",
       "      <td>NaN</td>\n",
       "      <td>S</td>\n",
       "    </tr>\n",
       "  </tbody>\n",
       "</table>\n",
       "</div>"
      ],
      "text/plain": [
       "   PassengerId  Survived  Pclass  \\\n",
       "0            1         0       3   \n",
       "1            2         1       1   \n",
       "2            3         1       3   \n",
       "3            4         1       1   \n",
       "4            5         0       3   \n",
       "\n",
       "                                                Name     Sex   Age  SibSp  \\\n",
       "0                            Braund, Mr. Owen Harris    male  22.0      1   \n",
       "1  Cumings, Mrs. John Bradley (Florence Briggs Th...  female  38.0      1   \n",
       "2                             Heikkinen, Miss. Laina  female  26.0      0   \n",
       "3       Futrelle, Mrs. Jacques Heath (Lily May Peel)  female  35.0      1   \n",
       "4                           Allen, Mr. William Henry    male  35.0      0   \n",
       "\n",
       "   Parch            Ticket     Fare Cabin Embarked  \n",
       "0      0         A/5 21171   7.2500   NaN        S  \n",
       "1      0          PC 17599  71.2833   C85        C  \n",
       "2      0  STON/O2. 3101282   7.9250   NaN        S  \n",
       "3      0            113803  53.1000  C123        S  \n",
       "4      0            373450   8.0500   NaN        S  "
      ]
     },
     "execution_count": 51,
     "metadata": {},
     "output_type": "execute_result"
    }
   ],
   "source": [
    "#加载数据，并查看样例\n",
    "# get titanic & test csv files as a DataFrame\n",
    "train_df = pd.read_csv(\"../input/train.csv\", dtype={\"Age\": np.float64}, )\n",
    "test_df  = pd.read_csv(\"../input/test.csv\", dtype={\"Age\": np.float64}, )\n",
    "# preview the data\n",
    "train_df.head()"
   ]
  },
  {
   "cell_type": "code",
   "execution_count": 52,
   "metadata": {
    "collapsed": false
   },
   "outputs": [
    {
     "name": "stdout",
     "output_type": "stream",
     "text": [
      "<class 'pandas.core.frame.DataFrame'>\n",
      "RangeIndex: 891 entries, 0 to 890\n",
      "Data columns (total 12 columns):\n",
      "PassengerId    891 non-null int64\n",
      "Survived       891 non-null int64\n",
      "Pclass         891 non-null int64\n",
      "Name           891 non-null object\n",
      "Sex            891 non-null object\n",
      "Age            714 non-null float64\n",
      "SibSp          891 non-null int64\n",
      "Parch          891 non-null int64\n",
      "Ticket         891 non-null object\n",
      "Fare           891 non-null float64\n",
      "Cabin          204 non-null object\n",
      "Embarked       889 non-null object\n",
      "dtypes: float64(2), int64(5), object(5)\n",
      "memory usage: 66.2+ KB\n",
      "-----------------------------------\n",
      "<class 'pandas.core.frame.DataFrame'>\n",
      "RangeIndex: 418 entries, 0 to 417\n",
      "Data columns (total 11 columns):\n",
      "PassengerId    418 non-null int64\n",
      "Pclass         418 non-null int64\n",
      "Name           418 non-null object\n",
      "Sex            418 non-null object\n",
      "Age            332 non-null float64\n",
      "SibSp          418 non-null int64\n",
      "Parch          418 non-null int64\n",
      "Ticket         418 non-null object\n",
      "Fare           417 non-null float64\n",
      "Cabin          91 non-null object\n",
      "Embarked       418 non-null object\n",
      "dtypes: float64(2), int64(4), object(5)\n",
      "memory usage: 27.8+ KB\n"
     ]
    }
   ],
   "source": [
    "# 查看数据类型及完整度\n",
    "# over view for data type and missing value\n",
    "train_df.info()\n",
    "print '-----------------------------------'\n",
    "test_df.info()"
   ]
  },
  {
   "cell_type": "code",
   "execution_count": 53,
   "metadata": {
    "collapsed": false
   },
   "outputs": [
    {
     "data": {
      "text/html": [
       "<div>\n",
       "<table border=\"1\" class=\"dataframe\">\n",
       "  <thead>\n",
       "    <tr style=\"text-align: right;\">\n",
       "      <th></th>\n",
       "      <th>PassengerId</th>\n",
       "      <th>Survived</th>\n",
       "      <th>Pclass</th>\n",
       "      <th>Age</th>\n",
       "      <th>SibSp</th>\n",
       "      <th>Parch</th>\n",
       "      <th>Fare</th>\n",
       "    </tr>\n",
       "  </thead>\n",
       "  <tbody>\n",
       "    <tr>\n",
       "      <th>count</th>\n",
       "      <td>891.000000</td>\n",
       "      <td>891.000000</td>\n",
       "      <td>891.000000</td>\n",
       "      <td>714.000000</td>\n",
       "      <td>891.000000</td>\n",
       "      <td>891.000000</td>\n",
       "      <td>891.000000</td>\n",
       "    </tr>\n",
       "    <tr>\n",
       "      <th>mean</th>\n",
       "      <td>446.000000</td>\n",
       "      <td>0.383838</td>\n",
       "      <td>2.308642</td>\n",
       "      <td>29.699118</td>\n",
       "      <td>0.523008</td>\n",
       "      <td>0.381594</td>\n",
       "      <td>32.204208</td>\n",
       "    </tr>\n",
       "    <tr>\n",
       "      <th>std</th>\n",
       "      <td>257.353842</td>\n",
       "      <td>0.486592</td>\n",
       "      <td>0.836071</td>\n",
       "      <td>14.526497</td>\n",
       "      <td>1.102743</td>\n",
       "      <td>0.806057</td>\n",
       "      <td>49.693429</td>\n",
       "    </tr>\n",
       "    <tr>\n",
       "      <th>min</th>\n",
       "      <td>1.000000</td>\n",
       "      <td>0.000000</td>\n",
       "      <td>1.000000</td>\n",
       "      <td>0.420000</td>\n",
       "      <td>0.000000</td>\n",
       "      <td>0.000000</td>\n",
       "      <td>0.000000</td>\n",
       "    </tr>\n",
       "    <tr>\n",
       "      <th>25%</th>\n",
       "      <td>223.500000</td>\n",
       "      <td>0.000000</td>\n",
       "      <td>2.000000</td>\n",
       "      <td>NaN</td>\n",
       "      <td>0.000000</td>\n",
       "      <td>0.000000</td>\n",
       "      <td>7.910400</td>\n",
       "    </tr>\n",
       "    <tr>\n",
       "      <th>50%</th>\n",
       "      <td>446.000000</td>\n",
       "      <td>0.000000</td>\n",
       "      <td>3.000000</td>\n",
       "      <td>NaN</td>\n",
       "      <td>0.000000</td>\n",
       "      <td>0.000000</td>\n",
       "      <td>14.454200</td>\n",
       "    </tr>\n",
       "    <tr>\n",
       "      <th>75%</th>\n",
       "      <td>668.500000</td>\n",
       "      <td>1.000000</td>\n",
       "      <td>3.000000</td>\n",
       "      <td>NaN</td>\n",
       "      <td>1.000000</td>\n",
       "      <td>0.000000</td>\n",
       "      <td>31.000000</td>\n",
       "    </tr>\n",
       "    <tr>\n",
       "      <th>max</th>\n",
       "      <td>891.000000</td>\n",
       "      <td>1.000000</td>\n",
       "      <td>3.000000</td>\n",
       "      <td>80.000000</td>\n",
       "      <td>8.000000</td>\n",
       "      <td>6.000000</td>\n",
       "      <td>512.329200</td>\n",
       "    </tr>\n",
       "  </tbody>\n",
       "</table>\n",
       "</div>"
      ],
      "text/plain": [
       "       PassengerId    Survived      Pclass         Age       SibSp  \\\n",
       "count   891.000000  891.000000  891.000000  714.000000  891.000000   \n",
       "mean    446.000000    0.383838    2.308642   29.699118    0.523008   \n",
       "std     257.353842    0.486592    0.836071   14.526497    1.102743   \n",
       "min       1.000000    0.000000    1.000000    0.420000    0.000000   \n",
       "25%     223.500000    0.000000    2.000000         NaN    0.000000   \n",
       "50%     446.000000    0.000000    3.000000         NaN    0.000000   \n",
       "75%     668.500000    1.000000    3.000000         NaN    1.000000   \n",
       "max     891.000000    1.000000    3.000000   80.000000    8.000000   \n",
       "\n",
       "            Parch        Fare  \n",
       "count  891.000000  891.000000  \n",
       "mean     0.381594   32.204208  \n",
       "std      0.806057   49.693429  \n",
       "min      0.000000    0.000000  \n",
       "25%      0.000000    7.910400  \n",
       "50%      0.000000   14.454200  \n",
       "75%      0.000000   31.000000  \n",
       "max      6.000000  512.329200  "
      ]
     },
     "execution_count": 53,
     "metadata": {},
     "output_type": "execute_result"
    }
   ],
   "source": [
    "#overview\n",
    "train_df.describe()"
   ]
  },
  {
   "cell_type": "code",
   "execution_count": 54,
   "metadata": {
    "collapsed": false,
    "scrolled": true
   },
   "outputs": [
    {
     "data": {
      "text/plain": [
       "<matplotlib.axes._subplots.AxesSubplot at 0xcfcba90>"
      ]
     },
     "execution_count": 54,
     "metadata": {},
     "output_type": "execute_result"
    },
    {
     "data": {
      "image/png": "[encoded data removed]",
      "text/plain": [
       "<matplotlib.figure.Figure at 0xc9653d0>"
      ]
     },
     "metadata": {},
     "output_type": "display_data"
    }
   ],
   "source": [
    "#图形化展示原始数据\n",
    "#Data visualization: Original Data\n",
    "#discrete values: Survived, Pclass, SibSp, Parch, Embarked, (Tickit,Cabin)\n",
    "#continuous values: Age, Fare\n",
    "fig, axises = plt.subplots(1,3,figsize=(15,5))\n",
    "sns.countplot(x='Survived',data=train_df,ax=axises[0])\n",
    "sns.countplot(x='Pclass',hue='Survived',data=train_df,ax=axises[1])\n",
    "sns.countplot(x='Sex',hue='Survived',data=train_df,ax=axises[2])"
   ]
  },
  {
   "cell_type": "code",
   "execution_count": 55,
   "metadata": {
    "collapsed": false
   },
   "outputs": [
    {
     "data": {
      "text/plain": [
       "<matplotlib.axes._subplots.AxesSubplot at 0xcdfe2b0>"
      ]
     },
     "execution_count": 55,
     "metadata": {},
     "output_type": "execute_result"
    },
    {
     "data": {
      "image/png": "[encoded data removed]",
      "text/plain": [
       "<matplotlib.figure.Figure at 0xc965450>"
      ]
     },
     "metadata": {},
     "output_type": "display_data"
    }
   ],
   "source": [
    "fig, axises = plt.subplots(1,3,figsize=(15,5))\n",
    "sns.countplot(x='SibSp',hue='Survived',data=train_df,ax=axises[0])\n",
    "sns.countplot(x='Parch',hue='Survived',data=train_df,ax=axises[1])\n",
    "sns.countplot(x='Embarked',hue='Survived',data=train_df,ax=axises[2])"
   ]
  },
  {
   "cell_type": "code",
   "execution_count": 56,
   "metadata": {
    "collapsed": false
   },
   "outputs": [
    {
     "data": {
      "text/plain": [
       "<matplotlib.axes._subplots.AxesSubplot at 0xe58ac30>"
      ]
     },
     "execution_count": 56,
     "metadata": {},
     "output_type": "execute_result"
    },
    {
     "data": {
      "image/png": "[encoded data removed]",
      "text/plain": [
       "<matplotlib.figure.Figure at 0xc0ae970>"
      ]
     },
     "metadata": {},
     "output_type": "display_data"
    }
   ],
   "source": [
    "#展示数据与目标分类的概率关系\n",
    "survived_rate=train_df['Survived'].mean()\n",
    "tmp={'survived':['yes','no'],'rate':[survived_rate,1-survived_rate]}\n",
    "survived_average=pd.DataFrame(tmp)\n",
    "class_average=train_df[[\"Pclass\", \"Survived\"]].groupby(['Pclass'],as_index=False).mean()\n",
    "sex_average=train_df[[\"Sex\", \"Survived\"]].groupby(['Sex'],as_index=False).mean()\n",
    "\n",
    "\n",
    "fig, axises = plt.subplots(1,3,figsize=(15,5))\n",
    "sns.barplot(data=survived_average,x='survived',y='rate',ax=axises[0])\n",
    "sns.barplot(x='Pclass',y='Survived',data=class_average,ax=axises[1])\n",
    "sns.barplot(x='Sex',y='Survived',data=sex_average,ax=axises[2])"
   ]
  },
  {
   "cell_type": "code",
   "execution_count": 57,
   "metadata": {
    "collapsed": false
   },
   "outputs": [
    {
     "data": {
      "text/plain": [
       "<matplotlib.axes._subplots.AxesSubplot at 0xe5d8f70>"
      ]
     },
     "execution_count": 57,
     "metadata": {},
     "output_type": "execute_result"
    },
    {
     "data": {
      "image/png": "[encoded data removed]",
      "text/plain": [
       "<matplotlib.figure.Figure at 0xc15ac10>"
      ]
     },
     "metadata": {},
     "output_type": "display_data"
    }
   ],
   "source": [
    "Sibsp_average=train_df[[\"SibSp\", \"Survived\"]].groupby(['SibSp'],as_index=False).mean()\n",
    "Parch_average=train_df[[\"Parch\", \"Survived\"]].groupby(['Parch'],as_index=False).mean()\n",
    "Embarked_average=train_df[[\"Embarked\", \"Survived\"]].groupby(['Embarked'],as_index=False).mean()\n",
    "\n",
    "fig, axises = plt.subplots(1,3,figsize=(15,5))\n",
    "sns.barplot(x='SibSp',y='Survived',data=Sibsp_average,ax=axises[0])\n",
    "sns.barplot(x='Parch',y='Survived',data=Parch_average,ax=axises[1])\n",
    "sns.barplot(x='Embarked',y='Survived',data=Embarked_average,ax=axises[2])"
   ]
  },
  {
   "cell_type": "code",
   "execution_count": 58,
   "metadata": {
    "collapsed": false
   },
   "outputs": [
    {
     "data": {
      "text/plain": [
       "<seaborn.axisgrid.FacetGrid at 0xca9e290>"
      ]
     },
     "execution_count": 58,
     "metadata": {},
     "output_type": "execute_result"
    },
    {
     "data": {
      "image/png": "[encoded data removed]",
      "text/plain": [
       "<matplotlib.figure.Figure at 0xe6b9970>"
      ]
     },
     "metadata": {},
     "output_type": "display_data"
    },
    {
     "data": {
      "image/png": "[encoded data removed]",
      "text/plain": [
       "<matplotlib.figure.Figure at 0xe7c8f30>"
      ]
     },
     "metadata": {},
     "output_type": "display_data"
    },
    {
     "data": {
      "image/png": "[encoded data removed]",
      "text/plain": [
       "<matplotlib.figure.Figure at 0xec95650>"
      ]
     },
     "metadata": {},
     "output_type": "display_data"
    }
   ],
   "source": [
    "#view original data of Age\n",
    "fig, axises = plt.subplots(figsize=(18,5))\n",
    "sns.countplot(x='Age',hue='Survived',data=train_df)\n",
    "\n",
    "# average survived passengers by age\n",
    "fig, axis1 = plt.subplots(1,1,figsize=(18,4))\n",
    "average_age = train_df[[\"Age\", \"Survived\"]].groupby(['Age'],as_index=False).mean()\n",
    "sns.barplot(x='Age', y='Survived', data=average_age)\n",
    "\n",
    "# peaks for survived/not survived passengers by their age\n",
    "facet = sns.FacetGrid(train_df, hue=\"Survived\",aspect=4)\n",
    "facet.map(sns.kdeplot,'Age',shade= True)\n",
    "facet.set(xlim=(0, train_df['Age'].max()))\n",
    "facet.add_legend()\n"
   ]
  },
  {
   "cell_type": "code",
   "execution_count": 59,
   "metadata": {
    "collapsed": false
   },
   "outputs": [
    {
     "data": {
      "text/plain": [
       "<seaborn.axisgrid.FacetGrid at 0xeb5a350>"
      ]
     },
     "execution_count": 59,
     "metadata": {},
     "output_type": "execute_result"
    },
    {
     "data": {
      "image/png": "[encoded data removed]",
      "text/plain": [
       "<matplotlib.figure.Figure at 0xd498a70>"
      ]
     },
     "metadata": {},
     "output_type": "display_data"
    },
    {
     "data": {
      "image/png": "[encoded data removed]",
      "text/plain": [
       "<matplotlib.figure.Figure at 0x1040b590>"
      ]
     },
     "metadata": {},
     "output_type": "display_data"
    },
    {
     "data": {
      "image/png": "[encoded data removed]",
      "text/plain": [
       "<matplotlib.figure.Figure at 0xeb5a690>"
      ]
     },
     "metadata": {},
     "output_type": "display_data"
    }
   ],
   "source": [
    "#查看男性的死亡率\n",
    "male_train=train_df[train_df.Sex=='male']\n",
    "fig, axises = plt.subplots(figsize=(18,5))\n",
    "sns.countplot(x='Age',hue='Survived',data=male_train)\n",
    "\n",
    "# average survived passengers by age\n",
    "fig, axis1 = plt.subplots(1,1,figsize=(18,4))\n",
    "average_age = male_train[[\"Age\", \"Survived\"]].groupby(['Age'],as_index=False).mean()\n",
    "sns.barplot(x='Age', y='Survived', data=average_age)\n",
    "\n",
    "# peaks for survived/not survived passengers by their age\n",
    "facet = sns.FacetGrid(male_train, hue=\"Survived\",aspect=4)\n",
    "facet.map(sns.kdeplot,'Age',shade= True)\n",
    "facet.set(xlim=(0, male_train['Age'].max()))\n",
    "facet.add_legend()\n"
   ]
  },
  {
   "cell_type": "code",
   "execution_count": 91,
   "metadata": {
    "collapsed": false
   },
   "outputs": [
    {
     "name": "stdout",
     "output_type": "stream",
     "text": [
      "      Sex  Pclass  Survived\n",
      "0  female       1  0.968085\n",
      "1  female       2  0.921053\n",
      "2  female       3  0.500000\n",
      "3    male       1  0.368852\n",
      "4    male       2  0.157407\n",
      "5    male       3  0.135447\n"
     ]
    }
   ],
   "source": [
    "#属性关联分析\n",
    "sex_pclass=train_df[['Sex','Pclass','Survived']].groupby(['Sex','Pclass'],as_index=False).mean()\n",
    "print sex_pclass"
   ]
  },
  {
   "cell_type": "code",
   "execution_count": 94,
   "metadata": {
    "collapsed": false
   },
   "outputs": [
    {
     "data": {
      "text/plain": [
       "<matplotlib.axes._subplots.AxesSubplot at 0xe124310>"
      ]
     },
     "execution_count": 94,
     "metadata": {},
     "output_type": "execute_result"
    },
    {
     "data": {
      "image/png": "[encoded data removed]",
      "text/plain": [
       "<matplotlib.figure.Figure at 0xbae4370>"
      ]
     },
     "metadata": {},
     "output_type": "display_data"
    }
   ],
   "source": [
    "sns.barplot(x='Pclass',y='Survived',data=sex_pclass,hue='Sex')"
   ]
  },
  {
   "cell_type": "code",
   "execution_count": 92,
   "metadata": {
    "collapsed": false
   },
   "outputs": [],
   "source": [
    "#属性关联系数分析"
   ]
  },
  {
   "cell_type": "code",
   "execution_count": 93,
   "metadata": {
    "collapsed": false
   },
   "outputs": [],
   "source": [
    "#可考虑通过聚类，使部分属性成为离散类型"
   ]
  },
  {
   "cell_type": "code",
   "execution_count": 104,
   "metadata": {
    "collapsed": false,
    "scrolled": true
   },
   "outputs": [
    {
     "data": {
      "text/plain": [
       "<seaborn.axisgrid.FacetGrid at 0xeadb330>"
      ]
     },
     "execution_count": 104,
     "metadata": {},
     "output_type": "execute_result"
    },
    {
     "data": {
      "image/png": "[encoded data removed]",
      "text/plain": [
       "<matplotlib.figure.Figure at 0xeadb370>"
      ]
     },
     "metadata": {},
     "output_type": "display_data"
    }
   ],
   "source": [
    "#船票价格Fare分析\n",
    "# peaks for survived/not survived passengers by their age\n",
    "facet = sns.FacetGrid(train_df, hue=\"Survived\",aspect=4)\n",
    "facet.map(sns.kdeplot,'Fare',shade= True)\n",
    "facet.set(xlim=(0, train_df['Fare'].max()))\n",
    "facet.add_legend()\n"
   ]
  },
  {
   "cell_type": "code",
   "execution_count": 105,
   "metadata": {
    "collapsed": false
   },
   "outputs": [
    {
     "data": {
      "text/plain": [
       "<seaborn.axisgrid.FacetGrid at 0xe1cbbd0>"
      ]
     },
     "execution_count": 105,
     "metadata": {},
     "output_type": "execute_result"
    },
    {
     "data": {
      "image/png": "[encoded data removed]",
      "text/plain": [
       "<matplotlib.figure.Figure at 0xe1cb4b0>"
      ]
     },
     "metadata": {},
     "output_type": "display_data"
    }
   ],
   "source": [
    "#to see more detail about Fare below 50, which is the majority\n",
    "facet = sns.FacetGrid(train_df, hue=\"Survived\",aspect=4)\n",
    "facet.map(sns.kdeplot,'Fare',shade= True)\n",
    "facet.set(xlim=(0, 50))\n",
    "facet.add_legend()"
   ]
  },
  {
   "cell_type": "code",
   "execution_count": 179,
   "metadata": {
    "collapsed": false
   },
   "outputs": [
    {
     "data": {
      "text/plain": [
       "<matplotlib.text.Text at 0x286de3f0>"
      ]
     },
     "execution_count": 179,
     "metadata": {},
     "output_type": "execute_result"
    },
    {
     "data": {
      "image/png": "[encoded data removed]",
      "text/plain": [
       "<matplotlib.figure.Figure at 0x2cb03830>"
      ]
     },
     "metadata": {},
     "output_type": "display_data"
    }
   ],
   "source": [
    "Survived_cabin=train_df.Survived[pd.notnull(train_df.Cabin)].value_counts()\n",
    "Survived_nocabin=train_df.Survived[pd.isnull(train_df.Cabin)].value_counts()\n",
    "df=pd.DataFrame({u'not null':Survived_cabin, u'null':Survived_nocabin })\n",
    "df.transpose().plot(kind='bar',stacked=True)\n",
    "plt.xlabel(u'Cabin null or not')"
   ]
  },
  {
   "cell_type": "markdown",
   "metadata": {},
   "source": [
    "# deal with the missing values：缺失值处理\n",
    "- too much missing value: discard\n",
    "- some missing value: Label Value, make it NaN as a label\n",
    "- some missing value: Continous Value, make it discremte, and mark NaN as a label\n",
    "- littel missing value: try fill it "
   ]
  },
  {
   "cell_type": "code",
   "execution_count": 116,
   "metadata": {
    "collapsed": false
   },
   "outputs": [],
   "source": [
    "#Embarked缺失值处理:补充两个最常用值\n",
    "#train_X.info()\n",
    "#print train_X.Embarked.value_counts()\n",
    "train_X.loc[train_X.Embarked.isnull(),'Embarked']='S'"
   ]
  },
  {
   "cell_type": "code",
   "execution_count": 122,
   "metadata": {
    "collapsed": false
   },
   "outputs": [],
   "source": [
    "#增加Cabin是否知道属性\n",
    "train_X.loc[train_X.Cabin.notnull(),'CabinKnown']=1\n",
    "train_X.loc[train_X.Cabin.isnull(),'CabinKnown']=0"
   ]
  },
  {
   "cell_type": "code",
   "execution_count": 147,
   "metadata": {
    "collapsed": true
   },
   "outputs": [],
   "source": [
    "#增加Age是否知道属性\n",
    "train_X.loc[train_X.Age.notnull(),'AgeKnown']=1\n",
    "train_X.loc[train_X.Age.isnull(),'AgeKnown']=0"
   ]
  },
  {
   "cell_type": "code",
   "execution_count": 158,
   "metadata": {
    "collapsed": false
   },
   "outputs": [],
   "source": [
    "# 补充年龄值\n",
    "# fill the missing age vaule with RandomForest\n",
    "from sklearn.ensemble import RandomForestRegressor\n",
    "def set_missing_ages(df):\n",
    "    age_df=df[['Age','Fare','Parch','SibSp','Pclass','CabinKnown']]\n",
    "    known_age=age_df[age_df.Age.notnull()]\n",
    "    unknown_age=age_df[age_df.Age.isnull()]\n",
    "    X=known_age.drop(['Age'],axis=1)\n",
    "    y=known_age['Age']\n",
    "    rfr=RandomForestRegressor(random_state=0,n_estimators=2000,n_jobs=-1)\n",
    "    rfr.fit(X,y)\n",
    "    X_unknown=unknown_age.drop(['Age'],axis=1)\n",
    "    y_unknown=rfr.predict(X_unknown)\n",
    "    df.loc[df.Age.isnull(),'Age']=y_unknown\n",
    "    return df,rfr\n",
    "    "
   ]
  },
  {
   "cell_type": "code",
   "execution_count": 159,
   "metadata": {
    "collapsed": false
   },
   "outputs": [],
   "source": [
    "train_X, rfr=set_missing_ages(train_X)"
   ]
  },
  {
   "cell_type": "code",
   "execution_count": 166,
   "metadata": {
    "collapsed": false
   },
   "outputs": [],
   "source": [
    "dummies_Pclass=pd.get_dummies(train_X['Pclass'],prefix='Pclass')\n",
    "dummies_Sex=pd.get_dummies(train_X['Sex'],prefix='Sex')\n",
    "dummies_Embarked=pd.get_dummies(train_X['Embarked'],prefix='Embarked')"
   ]
  },
  {
   "cell_type": "code",
   "execution_count": 184,
   "metadata": {
    "collapsed": false
   },
   "outputs": [],
   "source": [
    "train_X=train_X.join([dummies_Pclass,dummies_Sex,dummies_Embarked])"
   ]
  },
  {
   "cell_type": "code",
   "execution_count": 186,
   "metadata": {
    "collapsed": false
   },
   "outputs": [
    {
     "name": "stdout",
     "output_type": "stream",
     "text": [
      "<class 'pandas.core.frame.DataFrame'>\n",
      "RangeIndex: 891 entries, 0 to 890\n",
      "Data columns (total 22 columns):\n",
      "PassengerId    891 non-null int64\n",
      "Survived       891 non-null int64\n",
      "Pclass         891 non-null int64\n",
      "Name           891 non-null object\n",
      "Sex            891 non-null object\n",
      "Age            891 non-null float64\n",
      "SibSp          891 non-null int64\n",
      "Parch          891 non-null int64\n",
      "Ticket         891 non-null object\n",
      "Fare           891 non-null float64\n",
      "Cabin          204 non-null object\n",
      "Embarked       891 non-null object\n",
      "CabinKnown     891 non-null float64\n",
      "AgeKnown       891 non-null float64\n",
      "Pclass_1       891 non-null float64\n",
      "Pclass_2       891 non-null float64\n",
      "Pclass_3       891 non-null float64\n",
      "Sex_female     891 non-null float64\n",
      "Sex_male       891 non-null float64\n",
      "Embarked_C     891 non-null float64\n",
      "Embarked_Q     891 non-null float64\n",
      "Embarked_S     891 non-null float64\n",
      "dtypes: float64(12), int64(5), object(5)\n",
      "memory usage: 135.8+ KB\n"
     ]
    }
   ],
   "source": [
    "train_X.info()"
   ]
  },
  {
   "cell_type": "code",
   "execution_count": 190,
   "metadata": {
    "collapsed": false
   },
   "outputs": [],
   "source": [
    "#删除重复或不需要的属性\n",
    "train_X.drop(['PassengerId','Name','Ticket','Cabin','Sex','Pclass','Embarked'],axis=1,inplace=True)"
   ]
  },
  {
   "cell_type": "code",
   "execution_count": 197,
   "metadata": {
    "collapsed": false
   },
   "outputs": [],
   "source": [
    "#删除目标分类属性\n",
    "train_X.drop('Survived',axis=1,inplace=True)"
   ]
  },
  {
   "cell_type": "code",
   "execution_count": 199,
   "metadata": {
    "collapsed": false
   },
   "outputs": [],
   "source": [
    "#获取目标分类\n",
    "train_Y=train_df['Survived']"
   ]
  },
  {
   "cell_type": "markdown",
   "metadata": {},
   "source": [
    "# Algorithm Selection 算法选择"
   ]
  },
  {
   "cell_type": "markdown",
   "metadata": {},
   "source": [
    "## 逻辑回归"
   ]
  },
  {
   "cell_type": "code",
   "execution_count": 231,
   "metadata": {
    "collapsed": false
   },
   "outputs": [
    {
     "name": "stdout",
     "output_type": "stream",
     "text": [
      "train score: 0.810325476992\n"
     ]
    }
   ],
   "source": [
    "#训练集验证\n",
    "from sklearn import cross_validation\n",
    "logreg=LogisticRegression()\n",
    "logreg.fit(train_X,train_Y)\n",
    "print 'train score:',logreg.score(train_X,train_Y)\n"
   ]
  },
  {
   "cell_type": "markdown",
   "metadata": {},
   "source": [
    "### Cross Validation:交叉验证"
   ]
  },
  {
   "cell_type": "code",
   "execution_count": 271,
   "metadata": {
    "collapsed": false
   },
   "outputs": [
    {
     "name": "stdout",
     "output_type": "stream",
     "text": [
      "validation score 0.804469273743\n",
      "validation score 0.792134831461\n",
      "validation score 0.780898876404\n",
      "validation score 0.775280898876\n",
      "validation score 0.820224719101\n",
      "train statistic:\n",
      "mean: 0.812008131491\n",
      "std: 0.00324666911626\n",
      "cross validation statistic:\n",
      "mean: 0.794601719917\n",
      "std: 0.0162545642228\n"
     ]
    }
   ],
   "source": [
    "logreg=LogisticRegression()\n",
    "cross_train_X=train_X\n",
    "cross_train_Y=train_Y\n",
    "kfold = cross_validation.KFold(n=len(cross_train_X),n_folds=5)\n",
    "train_scores=np.zeros(5)\n",
    "cross_scores=np.zeros(5)\n",
    "cross_index=0\n",
    "for train, test in kfold:\n",
    "    logreg.fit(cross_train_X.loc[train],cross_train_Y.loc[train])\n",
    "    train_scores[cross_index]=logreg.score(cross_train_X.loc[train],cross_train_Y.loc[train])\n",
    "    cross_scores[cross_index]=logreg.score(cross_train_X.loc[test],cross_train_Y.loc[test])\n",
    "    print 'validation score', cross_scores[cross_index]\n",
    "    cross_index=cross_index+1\n",
    "print 'train statistic:'\n",
    "print 'mean:',train_scores.mean()\n",
    "print 'std:', train_scores.std()\n",
    "print 'cross validation statistic:'\n",
    "print 'mean:',cross_scores.mean()\n",
    "print 'std:', cross_scores.std()"
   ]
  },
  {
   "cell_type": "code",
   "execution_count": 246,
   "metadata": {
    "collapsed": false
   },
   "outputs": [
    {
     "name": "stderr",
     "output_type": "stream",
     "text": [
      "D:\\Anaconda2\\lib\\site-packages\\sklearn\\preprocessing\\data.py:583: DeprecationWarning: Passing 1d arrays as data is deprecated in 0.17 and will raise ValueError in 0.19. Reshape your data either using X.reshape(-1, 1) if your data has a single feature or X.reshape(1, -1) if it contains a single sample.\n",
      "  warnings.warn(DEPRECATION_MSG_1D, DeprecationWarning)\n",
      "D:\\Anaconda2\\lib\\site-packages\\sklearn\\preprocessing\\data.py:583: DeprecationWarning: Passing 1d arrays as data is deprecated in 0.17 and will raise ValueError in 0.19. Reshape your data either using X.reshape(-1, 1) if your data has a single feature or X.reshape(1, -1) if it contains a single sample.\n",
      "  warnings.warn(DEPRECATION_MSG_1D, DeprecationWarning)\n",
      "D:\\Anaconda2\\lib\\site-packages\\sklearn\\preprocessing\\data.py:646: DeprecationWarning: Passing 1d arrays as data is deprecated in 0.17 and will raise ValueError in 0.19. Reshape your data either using X.reshape(-1, 1) if your data has a single feature or X.reshape(1, -1) if it contains a single sample.\n",
      "  warnings.warn(DEPRECATION_MSG_1D, DeprecationWarning)\n",
      "D:\\Anaconda2\\lib\\site-packages\\sklearn\\preprocessing\\data.py:583: DeprecationWarning: Passing 1d arrays as data is deprecated in 0.17 and will raise ValueError in 0.19. Reshape your data either using X.reshape(-1, 1) if your data has a single feature or X.reshape(1, -1) if it contains a single sample.\n",
      "  warnings.warn(DEPRECATION_MSG_1D, DeprecationWarning)\n",
      "D:\\Anaconda2\\lib\\site-packages\\sklearn\\preprocessing\\data.py:583: DeprecationWarning: Passing 1d arrays as data is deprecated in 0.17 and will raise ValueError in 0.19. Reshape your data either using X.reshape(-1, 1) if your data has a single feature or X.reshape(1, -1) if it contains a single sample.\n",
      "  warnings.warn(DEPRECATION_MSG_1D, DeprecationWarning)\n",
      "D:\\Anaconda2\\lib\\site-packages\\sklearn\\preprocessing\\data.py:646: DeprecationWarning: Passing 1d arrays as data is deprecated in 0.17 and will raise ValueError in 0.19. Reshape your data either using X.reshape(-1, 1) if your data has a single feature or X.reshape(1, -1) if it contains a single sample.\n",
      "  warnings.warn(DEPRECATION_MSG_1D, DeprecationWarning)\n"
     ]
    }
   ],
   "source": [
    "# 正则化对比\n",
    "import sklearn.preprocessing as preprocessing\n",
    "scaler= preprocessing.StandardScaler()\n",
    "scaled_train_X=train_X.copy()\n",
    "age_scale_param=scaler.fit(train_X['Age'])\n",
    "scaled_train_X['Age_scaled']=scaler.fit_transform(scaled_train_X['Age'],age_scale_param)\n",
    "fare_scale_param=scaler.fit(train_X['Fare'])\n",
    "scaled_train_X['Fare_scaled']=scaler.fit_transform(scaled_train_X['Fare'],fare_scale_param)\n",
    "scaled_train_X.drop(['Age','Fare'],axis=1,inplace=True)"
   ]
  },
  {
   "cell_type": "code",
   "execution_count": 247,
   "metadata": {
    "collapsed": false
   },
   "outputs": [
    {
     "data": {
      "text/html": [
       "<div>\n",
       "<table border=\"1\" class=\"dataframe\">\n",
       "  <thead>\n",
       "    <tr style=\"text-align: right;\">\n",
       "      <th></th>\n",
       "      <th>SibSp</th>\n",
       "      <th>Parch</th>\n",
       "      <th>CabinKnown</th>\n",
       "      <th>AgeKnown</th>\n",
       "      <th>Pclass_1</th>\n",
       "      <th>Pclass_2</th>\n",
       "      <th>Pclass_3</th>\n",
       "      <th>Sex_female</th>\n",
       "      <th>Sex_male</th>\n",
       "      <th>Embarked_C</th>\n",
       "      <th>Embarked_Q</th>\n",
       "      <th>Embarked_S</th>\n",
       "      <th>Age_scaled</th>\n",
       "      <th>Fare_scaled</th>\n",
       "    </tr>\n",
       "  </thead>\n",
       "  <tbody>\n",
       "    <tr>\n",
       "      <th>0</th>\n",
       "      <td>1</td>\n",
       "      <td>0</td>\n",
       "      <td>0.0</td>\n",
       "      <td>1.0</td>\n",
       "      <td>0.0</td>\n",
       "      <td>0.0</td>\n",
       "      <td>1.0</td>\n",
       "      <td>0.0</td>\n",
       "      <td>1.0</td>\n",
       "      <td>0.0</td>\n",
       "      <td>0.0</td>\n",
       "      <td>1.0</td>\n",
       "      <td>-0.557996</td>\n",
       "      <td>-0.502445</td>\n",
       "    </tr>\n",
       "    <tr>\n",
       "      <th>1</th>\n",
       "      <td>1</td>\n",
       "      <td>0</td>\n",
       "      <td>1.0</td>\n",
       "      <td>1.0</td>\n",
       "      <td>1.0</td>\n",
       "      <td>0.0</td>\n",
       "      <td>0.0</td>\n",
       "      <td>1.0</td>\n",
       "      <td>0.0</td>\n",
       "      <td>1.0</td>\n",
       "      <td>0.0</td>\n",
       "      <td>0.0</td>\n",
       "      <td>0.617176</td>\n",
       "      <td>0.786845</td>\n",
       "    </tr>\n",
       "    <tr>\n",
       "      <th>2</th>\n",
       "      <td>0</td>\n",
       "      <td>0</td>\n",
       "      <td>0.0</td>\n",
       "      <td>1.0</td>\n",
       "      <td>0.0</td>\n",
       "      <td>0.0</td>\n",
       "      <td>1.0</td>\n",
       "      <td>1.0</td>\n",
       "      <td>0.0</td>\n",
       "      <td>0.0</td>\n",
       "      <td>0.0</td>\n",
       "      <td>1.0</td>\n",
       "      <td>-0.264203</td>\n",
       "      <td>-0.488854</td>\n",
       "    </tr>\n",
       "    <tr>\n",
       "      <th>3</th>\n",
       "      <td>1</td>\n",
       "      <td>0</td>\n",
       "      <td>1.0</td>\n",
       "      <td>1.0</td>\n",
       "      <td>1.0</td>\n",
       "      <td>0.0</td>\n",
       "      <td>0.0</td>\n",
       "      <td>1.0</td>\n",
       "      <td>0.0</td>\n",
       "      <td>0.0</td>\n",
       "      <td>0.0</td>\n",
       "      <td>1.0</td>\n",
       "      <td>0.396831</td>\n",
       "      <td>0.420730</td>\n",
       "    </tr>\n",
       "    <tr>\n",
       "      <th>4</th>\n",
       "      <td>0</td>\n",
       "      <td>0</td>\n",
       "      <td>0.0</td>\n",
       "      <td>1.0</td>\n",
       "      <td>0.0</td>\n",
       "      <td>0.0</td>\n",
       "      <td>1.0</td>\n",
       "      <td>0.0</td>\n",
       "      <td>1.0</td>\n",
       "      <td>0.0</td>\n",
       "      <td>0.0</td>\n",
       "      <td>1.0</td>\n",
       "      <td>0.396831</td>\n",
       "      <td>-0.486337</td>\n",
       "    </tr>\n",
       "  </tbody>\n",
       "</table>\n",
       "</div>"
      ],
      "text/plain": [
       "   SibSp  Parch  CabinKnown  AgeKnown  Pclass_1  Pclass_2  Pclass_3  \\\n",
       "0      1      0         0.0       1.0       0.0       0.0       1.0   \n",
       "1      1      0         1.0       1.0       1.0       0.0       0.0   \n",
       "2      0      0         0.0       1.0       0.0       0.0       1.0   \n",
       "3      1      0         1.0       1.0       1.0       0.0       0.0   \n",
       "4      0      0         0.0       1.0       0.0       0.0       1.0   \n",
       "\n",
       "   Sex_female  Sex_male  Embarked_C  Embarked_Q  Embarked_S  Age_scaled  \\\n",
       "0         0.0       1.0         0.0         0.0         1.0   -0.557996   \n",
       "1         1.0       0.0         1.0         0.0         0.0    0.617176   \n",
       "2         1.0       0.0         0.0         0.0         1.0   -0.264203   \n",
       "3         1.0       0.0         0.0         0.0         1.0    0.396831   \n",
       "4         0.0       1.0         0.0         0.0         1.0    0.396831   \n",
       "\n",
       "   Fare_scaled  \n",
       "0    -0.502445  \n",
       "1     0.786845  \n",
       "2    -0.488854  \n",
       "3     0.420730  \n",
       "4    -0.486337  "
      ]
     },
     "execution_count": 247,
     "metadata": {},
     "output_type": "execute_result"
    }
   ],
   "source": [
    "scaled_train_X.head()"
   ]
  },
  {
   "cell_type": "code",
   "execution_count": 272,
   "metadata": {
    "collapsed": false
   },
   "outputs": [
    {
     "name": "stdout",
     "output_type": "stream",
     "text": [
      "validation score 0.804469273743\n",
      "validation score 0.792134831461\n",
      "validation score 0.780898876404\n",
      "validation score 0.775280898876\n",
      "validation score 0.820224719101\n",
      "train statistic:\n",
      "mean: 0.812851616055\n",
      "std: 0.00309471643734\n",
      "cross validation statistic:\n",
      "mean: 0.794601719917\n",
      "std: 0.0162545642228\n"
     ]
    }
   ],
   "source": [
    "#交叉验证\n",
    "logreg=LogisticRegression()\n",
    "cross_train_X=scaled_train_X\n",
    "cross_train_Y=train_Y\n",
    "kfold = cross_validation.KFold(n=len(cross_train_X),n_folds=5)\n",
    "train_scores=np.zeros(5)\n",
    "cross_scores=np.zeros(5)\n",
    "cross_index=0\n",
    "for train, test in kfold:\n",
    "    logreg.fit(cross_train_X.loc[train],cross_train_Y.loc[train])\n",
    "    train_scores[cross_index]=logreg.score(cross_train_X.loc[train],cross_train_Y.loc[train])\n",
    "    cross_scores[cross_index]=logreg.score(cross_train_X.loc[test],cross_train_Y.loc[test])\n",
    "    print 'validation score', cross_scores[cross_index]\n",
    "    cross_index=cross_index+1\n",
    "print 'train statistic:'\n",
    "print 'mean:',train_scores.mean()\n",
    "print 'std:', train_scores.std()\n",
    "print 'cross validation statistic:'\n",
    "print 'mean:',cross_scores.mean()\n",
    "print 'std:', cross_scores.std()"
   ]
  },
  {
   "cell_type": "markdown",
   "metadata": {},
   "source": [
    "# Opetimizatin 优化"
   ]
  },
  {
   "cell_type": "markdown",
   "metadata": {},
   "source": [
    "### 参数调优\n"
   ]
  },
  {
   "cell_type": "code",
   "execution_count": 396,
   "metadata": {
    "collapsed": false
   },
   "outputs": [
    {
     "name": "stdout",
     "output_type": "stream",
     "text": [
      "0.802469135802\n"
     ]
    }
   ],
   "source": [
    "from sklearn.grid_search import GridSearchCV\n",
    "Cs=np.logspace(-6,3,10)\n",
    "Ts=np.logspace(-6,-1,6)\n",
    "lrg_gs=GridSearchCV(estimator=logreg, param_grid= dict(C=Cs,tol=Ts),n_jobs=-1)\n",
    "lrg_gs.fit(train_X,train_Y)\n",
    "print lrg_gs.best_score_"
   ]
  },
  {
   "cell_type": "code",
   "execution_count": 397,
   "metadata": {
    "collapsed": false
   },
   "outputs": [
    {
     "name": "stdout",
     "output_type": "stream",
     "text": [
      "10.0\n",
      "1e-06\n"
     ]
    }
   ],
   "source": [
    "print lrg_gs.best_estimator_.C\n",
    "print lrg_gs.best_estimator_.tol"
   ]
  },
  {
   "cell_type": "code",
   "execution_count": 298,
   "metadata": {
    "collapsed": false
   },
   "outputs": [
    {
     "name": "stdout",
     "output_type": "stream",
     "text": [
      "validation score 0.804469273743\n",
      "validation score 0.792134831461\n",
      "validation score 0.780898876404\n",
      "validation score 0.769662921348\n",
      "validation score 0.825842696629\n",
      "train statistic:\n",
      "mean: 0.815096049293\n",
      "std: 0.00397532791093\n",
      "cross validation statistic:\n",
      "mean: 0.794601719917\n",
      "std: 0.0194379236416\n"
     ]
    }
   ],
   "source": [
    "logreg=LogisticRegression(C=10)\n",
    "cross_train_X=train_X\n",
    "cross_train_Y=train_Y\n",
    "fold_num=5\n",
    "kfold = cross_validation.KFold(n=len(cross_train_X),n_folds=fold_num)\n",
    "train_scores=np.zeros(fold_num)\n",
    "cross_scores=np.zeros(fold_num)\n",
    "cross_index=0\n",
    "for train, test in kfold:\n",
    "    logreg.fit(cross_train_X.loc[train],cross_train_Y.loc[train])\n",
    "    train_scores[cross_index]=logreg.score(cross_train_X.loc[train],cross_train_Y.loc[train])\n",
    "    cross_scores[cross_index]=logreg.score(cross_train_X.loc[test],cross_train_Y.loc[test])\n",
    "    print 'validation score', cross_scores[cross_index]\n",
    "    cross_index=cross_index+1\n",
    "print 'train statistic:'\n",
    "print 'mean:',train_scores.mean()\n",
    "print 'std:', train_scores.std()\n",
    "print 'cross validation statistic:'\n",
    "print 'mean:',cross_scores.mean()\n",
    "print 'std:', cross_scores.std()"
   ]
  },
  {
   "cell_type": "code",
   "execution_count": 286,
   "metadata": {
    "collapsed": false
   },
   "outputs": [
    {
     "name": "stdout",
     "output_type": "stream",
     "text": [
      "train score: 0.809203142536\n"
     ]
    }
   ],
   "source": [
    "logreg=LogisticRegression(C=10)\n",
    "logreg.fit(train_X,train_Y)\n",
    "print 'train score:',logreg.score(train_X,train_Y)"
   ]
  },
  {
   "cell_type": "markdown",
   "metadata": {},
   "source": [
    "### Learning Curve: 学习曲线"
   ]
  },
  {
   "cell_type": "code",
   "execution_count": 337,
   "metadata": {
    "collapsed": false
   },
   "outputs": [],
   "source": [
    "from sklearn.learning_curve import learning_curve\n",
    "logreg=LogisticRegression(C=10)\n",
    "fold_num=5\n",
    "kfold = cross_validation.KFold(n=len(cross_train_X),n_folds=fold_num)\n",
    "estimator=logreg\n",
    "train_sizes,train_scores,test_scores=learning_curve(estimator=estimator,cv=kfold,\n",
    "                                                    X=train_X,y=train_Y ,n_jobs=-1)"
   ]
  },
  {
   "cell_type": "code",
   "execution_count": 338,
   "metadata": {
    "collapsed": false
   },
   "outputs": [
    {
     "data": {
      "text/plain": [
       "<matplotlib.legend.Legend at 0x12913ab0>"
      ]
     },
     "execution_count": 338,
     "metadata": {},
     "output_type": "execute_result"
    },
    {
     "data": {
      "image/png": "[encoded data removed]",
      "text/plain": [
       "<matplotlib.figure.Figure at 0x12913390>"
      ]
     },
     "metadata": {},
     "output_type": "display_data"
    }
   ],
   "source": [
    "plt.plot(train_sizes,train_scores.mean(axis=1),'o-',color='r',label='train')\n",
    "plt.plot(train_sizes,test_scores.mean(axis=1),'o-',color='b',label='test')\n",
    "plt.legend(loc='best')"
   ]
  },
  {
   "cell_type": "markdown",
   "metadata": {},
   "source": [
    "训练集与测试集的准确度相差不大，所以不存在过度拟合的情况"
   ]
  },
  {
   "cell_type": "markdown",
   "metadata": {},
   "source": [
    "## Model ensemble 模型融合"
   ]
  },
  {
   "cell_type": "code",
   "execution_count": 368,
   "metadata": {
    "collapsed": false
   },
   "outputs": [
    {
     "name": "stdout",
     "output_type": "stream",
     "text": [
      "0.347319887834\n"
     ]
    }
   ],
   "source": [
    "from sklearn.ensemble import BaggingRegressor\n",
    "clf=LogisticRegression(C=10,penalty='l2',tol=1e-3)\n",
    "bagging_clf=BaggingRegressor(clf,n_estimators=20,max_samples=0.4,\n",
    "                             max_features=0.6,bootstrap=True,bootstrap_features=True,\n",
    "                            n_jobs=-1)\n",
    "bagging_clf.fit(train_X,train_Y)\n",
    "print bagging_clf.score(train_X,train_Y)"
   ]
  },
  {
   "cell_type": "markdown",
   "metadata": {},
   "source": [
    "模型融合的效果一般，有待进一步研究"
   ]
  },
  {
   "cell_type": "markdown",
   "metadata": {},
   "source": [
    "# 生成测试结果"
   ]
  },
  {
   "cell_type": "code",
   "execution_count": 369,
   "metadata": {
    "collapsed": false
   },
   "outputs": [
    {
     "name": "stdout",
     "output_type": "stream",
     "text": [
      "<class 'pandas.core.frame.DataFrame'>\n",
      "RangeIndex: 418 entries, 0 to 417\n",
      "Data columns (total 11 columns):\n",
      "PassengerId    418 non-null int64\n",
      "Pclass         418 non-null int64\n",
      "Name           418 non-null object\n",
      "Sex            418 non-null object\n",
      "Age            332 non-null float64\n",
      "SibSp          418 non-null int64\n",
      "Parch          418 non-null int64\n",
      "Ticket         418 non-null object\n",
      "Fare           417 non-null float64\n",
      "Cabin          91 non-null object\n",
      "Embarked       418 non-null object\n",
      "dtypes: float64(2), int64(4), object(5)\n",
      "memory usage: 27.8+ KB\n"
     ]
    }
   ],
   "source": [
    "test_df.info()"
   ]
  },
  {
   "cell_type": "code",
   "execution_count": 385,
   "metadata": {
    "collapsed": true
   },
   "outputs": [],
   "source": [
    "test_X=test_df.copy()"
   ]
  },
  {
   "cell_type": "code",
   "execution_count": 386,
   "metadata": {
    "collapsed": true
   },
   "outputs": [],
   "source": [
    "#填充Fare缺失数据\n",
    "test_X.loc[test_X.Fare.isnull(),'Fare']=test_X[test_X.Pclass==3]['Fare'].mean()"
   ]
  },
  {
   "cell_type": "code",
   "execution_count": 387,
   "metadata": {
    "collapsed": true
   },
   "outputs": [],
   "source": [
    "#增加Cabin是否知道属性\n",
    "test_X.loc[test_X.Cabin.notnull(),'CabinKnown']=1\n",
    "test_X.loc[test_X.Cabin.isnull(),'CabinKnown']=0"
   ]
  },
  {
   "cell_type": "code",
   "execution_count": 388,
   "metadata": {
    "collapsed": true
   },
   "outputs": [],
   "source": [
    "#增加Age是否知道属性\n",
    "test_X.loc[test_X.Age.notnull(),'AgeKnown']=1\n",
    "test_X.loc[test_X.Age.isnull(),'AgeKnown']=0"
   ]
  },
  {
   "cell_type": "code",
   "execution_count": 389,
   "metadata": {
    "collapsed": false
   },
   "outputs": [
    {
     "name": "stderr",
     "output_type": "stream",
     "text": [
      "D:\\Anaconda2\\lib\\site-packages\\ipykernel\\__main__.py:4: SettingWithCopyWarning: \n",
      "A value is trying to be set on a copy of a slice from a DataFrame\n",
      "\n",
      "See the caveats in the documentation: http://pandas.pydata.org/pandas-docs/stable/indexing.html#indexing-view-versus-copy\n"
     ]
    }
   ],
   "source": [
    "#填充Age\n",
    "test_age_df=test_X[['Age','Fare','Parch','SibSp','Pclass','CabinKnown']]\n",
    "test_age_unkown=test_age_df[test_X.Age.isnull()]\n",
    "test_age_unkown.drop('Age',axis=1,inplace=True)\n",
    "test_age_pred=rfr.predict(test_age_unkown)\n",
    "test_X.loc[test_X.Age.isnull(),'Age']=test_age_pred"
   ]
  },
  {
   "cell_type": "code",
   "execution_count": 391,
   "metadata": {
    "collapsed": false
   },
   "outputs": [],
   "source": [
    "#多值枚举值转化为二元枚举值\n",
    "dummies_Pclass=pd.get_dummies(test_X['Pclass'],prefix='Pclass')\n",
    "dummies_Sex=pd.get_dummies(test_X['Sex'],prefix='Sex')\n",
    "dummies_Embarked=pd.get_dummies(test_X['Embarked'],prefix='Embarked')\n",
    "test_X=test_X.join([dummies_Pclass,dummies_Sex,dummies_Embarked])"
   ]
  },
  {
   "cell_type": "code",
   "execution_count": 392,
   "metadata": {
    "collapsed": true
   },
   "outputs": [],
   "source": [
    "#删除重复或不需要的属性\n",
    "test_X.drop(['PassengerId','Name','Ticket','Cabin','Sex','Pclass','Embarked'],axis=1,inplace=True)"
   ]
  },
  {
   "cell_type": "code",
   "execution_count": 408,
   "metadata": {
    "collapsed": false
   },
   "outputs": [
    {
     "name": "stdout",
     "output_type": "stream",
     "text": [
      "LogisticRegression(C=1.0, class_weight=None, dual=False, fit_intercept=True,\n",
      "          intercept_scaling=1, max_iter=100, multi_class='ovr', n_jobs=1,\n",
      "          penalty='l2', random_state=None, solver='liblinear', tol=0.0001,\n",
      "          verbose=0, warm_start=False)\n",
      "0.810325476992\n"
     ]
    }
   ],
   "source": [
    "logreg=LogisticRegression()\n",
    "logreg.fit(train_X,train_Y)\n",
    "print logreg\n",
    "print logreg.score(train_X,train_Y)"
   ]
  },
  {
   "cell_type": "code",
   "execution_count": 411,
   "metadata": {
    "collapsed": false
   },
   "outputs": [],
   "source": [
    "#生成问题结果\n",
    "pred_Y=logreg.predict(test_X)\n",
    "submissions= pd.DataFrame({\n",
    "        'PassengerId':test_df[\"PassengerId\"],\n",
    "        'Survived':pred_Y\n",
    "    })"
   ]
  },
  {
   "cell_type": "code",
   "execution_count": 414,
   "metadata": {
    "collapsed": false
   },
   "outputs": [],
   "source": [
    "submissions.to_csv('../output/logreg161008.csv',index=False)"
   ]
  },
  {
   "cell_type": "code",
   "execution_count": null,
   "metadata": {
    "collapsed": true
   },
   "outputs": [],
   "source": []
  }
 ],
 "metadata": {
  "kernelspec": {
   "display_name": "Python [Root]",
   "language": "python",
   "name": "Python [Root]"
  },
  "language_info": {
   "codemirror_mode": {
    "name": "ipython",
    "version": 2
   },
   "file_extension": ".py",
   "mimetype": "text/x-python",
   "name": "python",
   "nbconvert_exporter": "python",
   "pygments_lexer": "ipython2",
   "version": "2.7.11"
  }
 },
 "nbformat": 4,
 "nbformat_minor": 0
}
