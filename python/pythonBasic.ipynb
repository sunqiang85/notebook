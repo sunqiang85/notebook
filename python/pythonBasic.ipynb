{
 "cells": [
  {
   "cell_type": "markdown",
   "metadata": {},
   "source": [
    "# Python基础\n",
    "首先推荐学习Python基础的教程和书籍\n",
    "- 视频教程推荐南京大学张莉老师在cousera上的教程[用Python玩转数据](https://www.coursera.org/learn/hipython/home)\n",
    "- 入门教程《Python基础教程》\n",
    "- 数据挖掘教程《利用Python进行数据分析》"
   ]
  },
  {
   "cell_type": "markdown",
   "metadata": {},
   "source": [
    "## 工具推荐\n",
    "- 编辑器：Sublime Text,这款编辑器真的非常好用，插件丰富，可以实现代码高亮，直接运行编码；而且这款编辑器还可以用来做其他开发，java，html等。\n",
    "- Python Shell: IPython，推荐使用，详见我的另外一篇文章《IPython》 "
   ]
  },
  {
   "cell_type": "markdown",
   "metadata": {},
   "source": [
    "## 学习Python的主要内容\n",
    "1. 数据格式\n",
    "2. 语句（条件循环等）\n",
    "3. 函数\n",
    "4. 对象\n",
    "5. 数据挖掘与机器学习相关库：panda，numpy，matplotlib，scikit-learn\n",
    "6. 其他高级内容：异常处理，魔法方法／属性／迭代器，文件，数据库，网络，GUI，测试，打包"
   ]
  },
  {
   "cell_type": "markdown",
   "metadata": {},
   "source": [
    "## 总结\n",
    "在这系列笔记中，我将会重点介绍Python学习中的：数据格式，语句，函数，对象，数据挖掘，机器学习等内容。"
   ]
  }
 ],
 "metadata": {
  "kernelspec": {
   "display_name": "Python 2",
   "language": "python",
   "name": "python2"
  },
  "language_info": {
   "codemirror_mode": {
    "name": "ipython",
    "version": 2
   },
   "file_extension": ".py",
   "mimetype": "text/x-python",
   "name": "python",
   "nbconvert_exporter": "python",
   "pygments_lexer": "ipython2",
   "version": "2.7.11"
  }
 },
 "nbformat": 4,
 "nbformat_minor": 0
}
