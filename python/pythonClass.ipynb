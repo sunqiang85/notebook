{
 "cells": [
  {
   "cell_type": "markdown",
   "metadata": {},
   "source": [
    "# 类\n",
    "Python是面向对象的语言，面向对象最重要的三个优点有：\n",
    "- 多态：多态使对象具备不同的行为方式。（可以认为声明了接口，但是实现方式可能多样）\n",
    "- 封装：封装是对全局作用域中隐藏多余信息的原则（创建对象，隐藏属性，不用担心对全局产生影响，也不用担心全局影响对象属性）\n",
    "- 继承：继承使得代码可以复用，而且使得类之间有超类和子类的概念"
   ]
  },
  {
   "cell_type": "markdown",
   "metadata": {},
   "source": [
    "## 创建类\n",
    "**类的可见级别**在类中分别定义了一个公共的方法greet，保护方法\\_protectmethod，私有方法\\_\\_privatemethod。如同通过Tab键进行函数定义控制，通过下划线\\_可以表明方法的可见级别。"
   ]
  },
  {
   "cell_type": "code",
   "execution_count": 15,
   "metadata": {
    "collapsed": false
   },
   "outputs": [
    {
     "name": "stdout",
     "output_type": "stream",
     "text": [
      "hello, world! I'm foo.\n"
     ]
    }
   ],
   "source": [
    "__metaclass__= type\n",
    "class Person:\n",
    "    def setName(self,name):\n",
    "        self.name=name\n",
    "    def getName(self,name):\n",
    "        return self.name\n",
    "    def greet(self):\n",
    "        print \"hello, world! I'm %s.\" % self.name\n",
    "    def _protectmethod(self):\n",
    "        print '_protectmethod'\n",
    "    def __privatemethod(self):\n",
    "        print '__privatemethod'\n",
    "foo=Person()\n",
    "foo.setName('foo')\n",
    "foo.greet()"
   ]
  },
  {
   "cell_type": "code",
   "execution_count": 10,
   "metadata": {
    "collapsed": false
   },
   "outputs": [
    {
     "data": {
      "text/plain": [
       "'foo'"
      ]
     },
     "execution_count": 10,
     "metadata": {},
     "output_type": "execute_result"
    }
   ],
   "source": [
    "foo.name"
   ]
  },
  {
   "cell_type": "code",
   "execution_count": 11,
   "metadata": {
    "collapsed": false
   },
   "outputs": [
    {
     "name": "stdout",
     "output_type": "stream",
     "text": [
      "hello, world! I'm foo.\n"
     ]
    }
   ],
   "source": [
    "func=foo.greet\n",
    "func()"
   ]
  },
  {
   "cell_type": "code",
   "execution_count": 12,
   "metadata": {
    "collapsed": false
   },
   "outputs": [
    {
     "name": "stdout",
     "output_type": "stream",
     "text": [
      "hello, world! I'm notfoo.\n"
     ]
    }
   ],
   "source": [
    "foo.setName('notfoo')\n",
    "func()"
   ]
  },
  {
   "cell_type": "markdown",
   "metadata": {},
   "source": [
    "使用单下划线定义的方法不会被带星号的import语句导入（from module import *）"
   ]
  },
  {
   "cell_type": "code",
   "execution_count": 16,
   "metadata": {
    "collapsed": false
   },
   "outputs": [
    {
     "name": "stdout",
     "output_type": "stream",
     "text": [
      "_protectmethod\n"
     ]
    }
   ],
   "source": [
    "foo._protectmethod()"
   ]
  },
  {
   "cell_type": "markdown",
   "metadata": {},
   "source": [
    "使用双下划线定义的方法，外部无法访问，实际上是方法名发生了变化"
   ]
  },
  {
   "cell_type": "code",
   "execution_count": 17,
   "metadata": {
    "collapsed": false
   },
   "outputs": [
    {
     "ename": "AttributeError",
     "evalue": "'Person' object has no attribute '__privatemethod'",
     "output_type": "error",
     "traceback": [
      "\u001b[1;31m---------------------------------------------------------------------------\u001b[0m",
      "\u001b[1;31mAttributeError\u001b[0m                            Traceback (most recent call last)",
      "\u001b[1;32m<ipython-input-17-3353363f5043>\u001b[0m in \u001b[0;36m<module>\u001b[1;34m()\u001b[0m\n\u001b[1;32m----> 1\u001b[1;33m \u001b[0mfoo\u001b[0m\u001b[1;33m.\u001b[0m\u001b[0m__privatemethod\u001b[0m\u001b[1;33m(\u001b[0m\u001b[1;33m)\u001b[0m\u001b[1;33m\u001b[0m\u001b[0m\n\u001b[0m",
      "\u001b[1;31mAttributeError\u001b[0m: 'Person' object has no attribute '__privatemethod'"
     ]
    }
   ],
   "source": [
    "foo.__privatemethod()"
   ]
  },
  {
   "cell_type": "markdown",
   "metadata": {},
   "source": [
    "在知道方法名改变的规则之后，我们依然可以调用私有方法。"
   ]
  },
  {
   "cell_type": "code",
   "execution_count": 22,
   "metadata": {
    "collapsed": false
   },
   "outputs": [
    {
     "name": "stdout",
     "output_type": "stream",
     "text": [
      "__privatemethod\n"
     ]
    }
   ],
   "source": [
    "foo._Person__privatemethod()"
   ]
  },
  {
   "cell_type": "markdown",
   "metadata": {},
   "source": [
    "**类属性**"
   ]
  },
  {
   "cell_type": "code",
   "execution_count": 25,
   "metadata": {
    "collapsed": false
   },
   "outputs": [
    {
     "name": "stdout",
     "output_type": "stream",
     "text": [
      "2\n"
     ]
    }
   ],
   "source": [
    "class MemberCounter:\n",
    "    memNum=0\n",
    "    def init(self):\n",
    "        MemberCounter.memNum+=1\n",
    "m1=MemberCounter()\n",
    "m1.init()\n",
    "m2=MemberCounter()\n",
    "m2.init()\n",
    "print MemberCounter.memNum"
   ]
  },
  {
   "cell_type": "code",
   "execution_count": 26,
   "metadata": {
    "collapsed": false
   },
   "outputs": [
    {
     "name": "stdout",
     "output_type": "stream",
     "text": [
      "M1\n"
     ]
    }
   ],
   "source": [
    "m1.myname='M1'\n",
    "print m1.myname"
   ]
  },
  {
   "cell_type": "markdown",
   "metadata": {},
   "source": [
    "## 类的继承"
   ]
  },
  {
   "cell_type": "code",
   "execution_count": 27,
   "metadata": {
    "collapsed": false
   },
   "outputs": [
    {
     "name": "stdout",
     "output_type": "stream",
     "text": [
      "hello, world I'm Mr Andrew\n"
     ]
    }
   ],
   "source": [
    "class Men(Person):\n",
    "    def greet(self):\n",
    "        print \"hello, world I'm Mr %s\" % self.name\n",
    "\n",
    "m=Men()\n",
    "m.setName('Andrew')\n",
    "m.greet()"
   ]
  },
  {
   "cell_type": "markdown",
   "metadata": {},
   "source": [
    "## 多个超类"
   ]
  },
  {
   "cell_type": "code",
   "execution_count": 29,
   "metadata": {
    "collapsed": false
   },
   "outputs": [
    {
     "name": "stdout",
     "output_type": "stream",
     "text": [
      "hello, world I'm Mr Adrew\n",
      "singing\n"
     ]
    }
   ],
   "source": [
    "class Singer():\n",
    "    def sing(self):\n",
    "        print 'singing'\n",
    "class MenSinger(Men,Singer):\n",
    "    def greetandsing(self):\n",
    "        self.greet()\n",
    "        self.sing()\n",
    "ms=MenSinger()\n",
    "ms.setName('Adrew')\n",
    "ms.greetandsing()"
   ]
  },
  {
   "cell_type": "markdown",
   "metadata": {},
   "source": [
    "## 接口和内省\n"
   ]
  },
  {
   "cell_type": "code",
   "execution_count": 30,
   "metadata": {
    "collapsed": false
   },
   "outputs": [
    {
     "data": {
      "text/plain": [
       "True"
      ]
     },
     "execution_count": 30,
     "metadata": {},
     "output_type": "execute_result"
    }
   ],
   "source": [
    "hasattr(ms,'greet')"
   ]
  },
  {
   "cell_type": "code",
   "execution_count": 31,
   "metadata": {
    "collapsed": false
   },
   "outputs": [
    {
     "data": {
      "text/plain": [
       "False"
      ]
     },
     "execution_count": 31,
     "metadata": {},
     "output_type": "execute_result"
    }
   ],
   "source": [
    "hasattr(ms,'bark')"
   ]
  }
 ],
 "metadata": {
  "anaconda-cloud": {},
  "kernelspec": {
   "display_name": "Python 2",
   "language": "python",
   "name": "python2"
  },
  "language_info": {
   "codemirror_mode": {
    "name": "ipython",
    "version": 2
   },
   "file_extension": ".py",
   "mimetype": "text/x-python",
   "name": "python",
   "nbconvert_exporter": "python",
   "pygments_lexer": "ipython2",
   "version": "2.7.11"
  }
 },
 "nbformat": 4,
 "nbformat_minor": 0
}
