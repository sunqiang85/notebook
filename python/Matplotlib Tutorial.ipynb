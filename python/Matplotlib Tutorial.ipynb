{
 "cells": [
  {
   "cell_type": "markdown",
   "metadata": {},
   "source": [
    "# Matplotlib"
   ]
  },
  {
   "cell_type": "code",
   "execution_count": 10,
   "metadata": {
    "collapsed": false
   },
   "outputs": [
    {
     "data": {
      "text/plain": [
       "<matplotlib.figure.Figure at 0x73cc290>"
      ]
     },
     "metadata": {},
     "output_type": "display_data"
    }
   ],
   "source": [
    "%matplotlib inline\n",
    "import matplotlib.pyplot as plt\n",
    "fig=plt.figure()"
   ]
  },
  {
   "cell_type": "code",
   "execution_count": 11,
   "metadata": {
    "collapsed": false
   },
   "outputs": [
    {
     "name": "stdout",
     "output_type": "stream",
     "text": [
      "[-1.45179758  0.85903502  0.86171034  0.67842188  0.45700227  0.35025883\n",
      " -0.04795906 -0.07883212  0.98524702  1.24281438  0.98288875  0.93244553\n",
      "  1.42733383 -1.14981972  0.92411277  0.34122367  0.0705231   0.87231463\n",
      "  0.37157826 -1.11847699  0.12399685  0.06975546  0.45966536 -1.15739745\n",
      " -1.34944403 -0.26101656  1.87726387  0.04501827 -1.55798093 -0.06200594\n",
      " -0.29424322  2.4383807  -1.15848501 -0.47264815  1.02950528  0.91164343\n",
      "  1.25376608  0.33421221 -1.52192699 -0.33053173  0.33250394 -0.73615378\n",
      "  1.78473444  1.51665052  0.27907423  1.39297592  1.69644236 -0.32194821\n",
      "  0.55062369  1.64136178]\n",
      "[ -1.45179758  -0.59276256   0.26894777   0.94736965   1.40437192\n",
      "   1.75463075   1.70667168   1.62783956   2.61308657   3.85590095\n",
      "   4.83878971   5.77123524   7.19856907   6.04874935   6.97286211\n",
      "   7.31408578   7.38460888   8.25692351   8.62850177   7.51002478\n",
      "   7.63402164   7.7037771    8.16344246   7.00604501   5.65660098\n",
      "   5.39558443   7.2728483    7.31786657   5.75988564   5.6978797\n",
      "   5.40363648   7.84201718   6.68353217   6.21088402   7.2403893\n",
      "   8.15203273   9.40579882   9.74001103   8.21808405   7.88755231\n",
      "   8.22005625   7.48390247   9.26863691  10.78528743  11.06436166\n",
      "  12.45733758  14.15377994  13.83183172  14.38245541  16.02381719]\n"
     ]
    }
   ],
   "source": [
    "ax1=fig.add_subplot(2,2,1)\n",
    "from numpy.random import randn\n",
    "r=randn(50)\n",
    "print r\n",
    "cum=r.cumsum()\n",
    "print cum"
   ]
  },
  {
   "cell_type": "code",
   "execution_count": 12,
   "metadata": {
    "collapsed": false
   },
   "outputs": [
    {
     "data": {
      "text/plain": [
       "[<matplotlib.lines.Line2D at 0x927a4b0>]"
      ]
     },
     "execution_count": 12,
     "metadata": {},
     "output_type": "execute_result"
    },
    {
     "data": {
      "image/png": "[encoded data removed]",
      "text/plain": [
       "<matplotlib.figure.Figure at 0x90ced90>"
      ]
     },
     "metadata": {},
     "output_type": "display_data"
    }
   ],
   "source": [
    "plt.plot(cum,'k--')"
   ]
  },
  {
   "cell_type": "code",
   "execution_count": 14,
   "metadata": {
    "collapsed": false
   },
   "outputs": [
    {
     "data": {
      "text/plain": [
       "'module://ipykernel.pylab.backend_inline'"
      ]
     },
     "execution_count": 14,
     "metadata": {},
     "output_type": "execute_result"
    }
   ],
   "source": [
    "plt.get_backend()"
   ]
  },
  {
   "cell_type": "code",
   "execution_count": 15,
   "metadata": {
    "collapsed": true
   },
   "outputs": [],
   "source": [
    "import pylab as pl"
   ]
  },
  {
   "cell_type": "code",
   "execution_count": 16,
   "metadata": {
    "collapsed": false
   },
   "outputs": [
    {
     "data": {
      "text/plain": [
       "(1, 3)"
      ]
     },
     "execution_count": 16,
     "metadata": {},
     "output_type": "execute_result"
    },
    {
     "data": {
      "image/png": "[encoded data removed]",
      "text/plain": [
       "<matplotlib.figure.Figure at 0x76e20f0>"
      ]
     },
     "metadata": {},
     "output_type": "display_data"
    }
   ],
   "source": [
    "pl.xlim(1,3)"
   ]
  },
  {
   "cell_type": "code",
   "execution_count": null,
   "metadata": {
    "collapsed": true
   },
   "outputs": [],
   "source": []
  }
 ],
 "metadata": {
  "kernelspec": {
   "display_name": "Python [Root]",
   "language": "python",
   "name": "Python [Root]"
  },
  "language_info": {
   "codemirror_mode": {
    "name": "ipython",
    "version": 2
   },
   "file_extension": ".py",
   "mimetype": "text/x-python",
   "name": "python",
   "nbconvert_exporter": "python",
   "pygments_lexer": "ipython2",
   "version": "2.7.11"
  }
 },
 "nbformat": 4,
 "nbformat_minor": 0
}
